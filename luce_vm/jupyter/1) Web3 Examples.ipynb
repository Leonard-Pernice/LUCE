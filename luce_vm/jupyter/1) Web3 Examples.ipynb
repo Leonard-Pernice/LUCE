{
 "cells": [
  {
   "cell_type": "markdown",
   "metadata": {},
   "source": [
    "# Gaining familiarity with web3py"
   ]
  },
  {
   "cell_type": "markdown",
   "metadata": {},
   "source": [
    "In this notebook I will work through the examples provided in the [web3py documentation](https://web3py.readthedocs.io/en/stable/examples.html) to get a better feeling for the functionality. My goal is to be able to compile, deploy and interact with Solidity contracts directly from within Python."
   ]
  },
  {
   "cell_type": "markdown",
   "metadata": {},
   "source": [
    "### Software used"
   ]
  },
  {
   "cell_type": "markdown",
   "metadata": {},
   "source": [
    "Over the last two days I set up LuceVM, an Ubuntu 16.04 virtual machine that contains all the required frameworks. The most important tools for us are:\n",
    "* Python 3.7\n",
    "    * web3\n",
    "    * solc-py-x\n",
    "* Jupyter Notebook for interaction and documentation\n",
    "* Virtual Environments via conda to handle dependencies\n",
    "* Solidity Compiler\n",
    "* Node.js\n",
    "* Ganache"
   ]
  },
  {
   "cell_type": "markdown",
   "metadata": {},
   "source": [
    "### Preparation: Connect Python to local Ganache Node"
   ]
  },
  {
   "cell_type": "markdown",
   "metadata": {},
   "source": [
    "First we start an instance of Ganache, either via GUI or the  ```run_ganache.sh``` script in LuceVM."
   ]
  },
  {
   "cell_type": "code",
   "execution_count": null,
   "metadata": {},
   "outputs": [],
   "source": [
    "from web3 import Web3, HTTPProvider\n",
    "\n",
    "# Ganache Connection\n",
    "w3 = Web3(Web3.HTTPProvider(\"HTTP://127.0.0.1:8545\"))"
   ]
  },
  {
   "cell_type": "markdown",
   "metadata": {},
   "source": [
    "### Obtain Accounts"
   ]
  },
  {
   "cell_type": "code",
   "execution_count": null,
   "metadata": {},
   "outputs": [],
   "source": [
    "# Extract default accounts from ganache\n",
    "accounts = w3.eth.accounts"
   ]
  },
  {
   "cell_type": "code",
   "execution_count": null,
   "metadata": {},
   "outputs": [],
   "source": [
    "# Display address of first account\n",
    "accounts[0]"
   ]
  },
  {
   "cell_type": "markdown",
   "metadata": {},
   "source": [
    "Store credentials of first account for testing:"
   ]
  },
  {
   "cell_type": "code",
   "execution_count": null,
   "metadata": {},
   "outputs": [],
   "source": [
    "# Wallet address\n",
    "wallet_address       = \"0x92D44e8579620F2Db88A12E70FE38e8CDB3541BA\"\n",
    "\n",
    "# Private key (from Ganache interface)\n",
    "wallet_private_key   = \"0x4a2cb86c7d3663abebf7ab86a6ddc3900aee399750f35e65a44ecf843ec39116\""
   ]
  },
  {
   "cell_type": "markdown",
   "metadata": {},
   "source": [
    "### Send ether"
   ]
  },
  {
   "cell_type": "code",
   "execution_count": null,
   "metadata": {},
   "outputs": [],
   "source": [
    "import time\n",
    "def send_ether(amount_in_ether, recipient_address):\n",
    "    amount_in_wei = w3.toWei(amount_in_ether,'ether');\n",
    "\n",
    "    # How many transactions have been made by wallet?\n",
    "    nonce = w3.eth.getTransactionCount(wallet_address)\n",
    "    \n",
    "    # Specify transcation details\n",
    "    txn_dict = {\n",
    "            'to': recipient_address,\n",
    "            'value': amount_in_wei,\n",
    "            'gas': 2000000,\n",
    "            'gasPrice': w3.toWei('40', 'gwei'),\n",
    "            'nonce': nonce,\n",
    "            'chainId': 3\n",
    "    }\n",
    "    \n",
    "    # Sign transaction\n",
    "    signed_txn = w3.eth.account.signTransaction(txn_dict, wallet_private_key)\n",
    "\n",
    "    # Send transaction & store transaction hash\n",
    "    txn_hash = w3.eth.sendRawTransaction(signed_txn.rawTransaction)\n",
    "\n",
    "    # Check if transaction was added to blockchain\n",
    "    time.sleep(0.5)\n",
    "    txn_receipt = w3.eth.getTransactionReceipt(txn_hash)\n",
    "    return txn_hash"
   ]
  },
  {
   "cell_type": "code",
   "execution_count": null,
   "metadata": {},
   "outputs": [],
   "source": [
    "# Set recipient\n",
    "recipient = accounts[1]"
   ]
  },
  {
   "cell_type": "code",
   "execution_count": null,
   "metadata": {},
   "outputs": [],
   "source": [
    "# Send ether and store transaction hash\n",
    "txn_hash = send_ether(1,recipient)"
   ]
  },
  {
   "cell_type": "code",
   "execution_count": null,
   "metadata": {},
   "outputs": [],
   "source": [
    "# WHY DOES THIS NOT WORK?\n",
    "# It is part of the function call in send ether and seems to work there..\n",
    "# w3.eth.getBlockTransactionCount(0x92d44e8579620f2db88a12e70fe38e8cdb3541ba)"
   ]
  },
  {
   "cell_type": "markdown",
   "metadata": {},
   "source": [
    "### Look up a block"
   ]
  },
  {
   "cell_type": "code",
   "execution_count": null,
   "metadata": {},
   "outputs": [],
   "source": [
    "w3.eth.getBlock(1)"
   ]
  },
  {
   "cell_type": "code",
   "execution_count": null,
   "metadata": {},
   "outputs": [],
   "source": [
    "# Retrieve the last block\n",
    "w3.eth.getBlock('latest')"
   ]
  },
  {
   "cell_type": "code",
   "execution_count": null,
   "metadata": {},
   "outputs": [],
   "source": [
    "# directly obtain the current block number\n",
    "w3.eth.blockNumber"
   ]
  },
  {
   "cell_type": "markdown",
   "metadata": {},
   "source": [
    "### Loop up a transaction via hash"
   ]
  },
  {
   "cell_type": "code",
   "execution_count": null,
   "metadata": {},
   "outputs": [],
   "source": [
    "w3.eth.getTransaction(txn_hash)"
   ]
  },
  {
   "cell_type": "code",
   "execution_count": null,
   "metadata": {},
   "outputs": [],
   "source": [
    "# Transaction receipt\n",
    "w3.eth.getTransactionReceipt(txn_hash)"
   ]
  },
  {
   "cell_type": "markdown",
   "metadata": {},
   "source": [
    "---"
   ]
  },
  {
   "cell_type": "code",
   "execution_count": null,
   "metadata": {},
   "outputs": [],
   "source": [
    "pwd"
   ]
  },
  {
   "cell_type": "markdown",
   "metadata": {},
   "source": [
    "### Compile contract"
   ]
  },
  {
   "cell_type": "markdown",
   "metadata": {},
   "source": [
    "Important that py-solc is installed for code to execute."
   ]
  },
  {
   "cell_type": "code",
   "execution_count": 2,
   "metadata": {
    "collapsed": true
   },
   "outputs": [
    {
     "name": "stdout",
     "output_type": "stream",
     "text": [
      "Collecting py-solc\n",
      "  Downloading https://files.pythonhosted.org/packages/47/74/d36abca3f36ccdcd04976c50f83502c870623e5beb4a4ec96c7bad4bb9e8/py_solc-3.2.0-py3-none-any.whl\n",
      "Requirement already satisfied: semantic-version>=2.6.0 in /home/vagrant/miniconda/envs/luce_vm/lib/python3.7/site-packages (from py-solc) (2.6.0)\n",
      "Installing collected packages: py-solc\n",
      "Successfully installed py-solc-3.2.0\n"
     ]
    }
   ],
   "source": [
    "#!{sys.executable} -m pip install py-solc"
   ]
  },
  {
   "cell_type": "code",
   "execution_count": 4,
   "metadata": {},
   "outputs": [],
   "source": [
    "#!{sys.executable} -m pip install py-solc-x"
   ]
  },
  {
   "cell_type": "code",
   "execution_count": 10,
   "metadata": {},
   "outputs": [
    {
     "name": "stdout",
     "output_type": "stream",
     "text": [
      "Using solc version v0.4.25\n"
     ]
    }
   ],
   "source": [
    "import sys\n",
    "import time\n",
    "import pprint\n",
    "\n",
    "from web3.providers.eth_tester import EthereumTesterProvider\n",
    "from web3 import Web3\n",
    "from solcx import compile_source\n",
    "\n",
    "\n",
    "def compile_source_file(file_path):\n",
    "    with open(file_path, 'r') as f:\n",
    "        source = f.read()\n",
    "\n",
    "    return compile_source(source)"
   ]
  },
  {
   "cell_type": "code",
   "execution_count": 11,
   "metadata": {},
   "outputs": [
    {
     "data": {
      "text/plain": [
       "'/vagrant/jupyter'"
      ]
     },
     "execution_count": 11,
     "metadata": {},
     "output_type": "execute_result"
    }
   ],
   "source": [
    "pwd"
   ]
  },
  {
   "cell_type": "code",
   "execution_count": 12,
   "metadata": {},
   "outputs": [
    {
     "name": "stdout",
     "output_type": "stream",
     "text": [
      "0) jupyter_kernel_test.ipynb  2) hello_luce.ipynb\r\n",
      "1) Web3 Examples.ipynb        \u001b[0m\u001b[01;34mdata\u001b[0m/\r\n"
     ]
    }
   ],
   "source": [
    "ls"
   ]
  },
  {
   "cell_type": "code",
   "execution_count": 13,
   "metadata": {},
   "outputs": [],
   "source": [
    "contract_source_path = './data/contract.sol'"
   ]
  },
  {
   "cell_type": "code",
   "execution_count": 14,
   "metadata": {},
   "outputs": [],
   "source": [
    "compiled_sol = compile_source_file('./data/contract.sol')"
   ]
  },
  {
   "cell_type": "code",
   "execution_count": 15,
   "metadata": {},
   "outputs": [],
   "source": [
    "contract_id, contract_interface = compiled_sol.popitem()"
   ]
  },
  {
   "cell_type": "code",
   "execution_count": 16,
   "metadata": {},
   "outputs": [
    {
     "data": {
      "text/plain": [
       "'<stdin>:StoreVar'"
      ]
     },
     "execution_count": 16,
     "metadata": {},
     "output_type": "execute_result"
    }
   ],
   "source": [
    "contract_id"
   ]
  },
  {
   "cell_type": "code",
   "execution_count": 17,
   "metadata": {
    "collapsed": true
   },
   "outputs": [
    {
     "data": {
      "text/plain": [
       "{'abi': [{'constant': True,\n",
       "   'inputs': [],\n",
       "   'name': '_myVar',\n",
       "   'outputs': [{'name': '', 'type': 'uint8'}],\n",
       "   'payable': False,\n",
       "   'stateMutability': 'view',\n",
       "   'type': 'function'},\n",
       "  {'constant': True,\n",
       "   'inputs': [],\n",
       "   'name': 'getVar',\n",
       "   'outputs': [{'name': '', 'type': 'uint8'}],\n",
       "   'payable': False,\n",
       "   'stateMutability': 'view',\n",
       "   'type': 'function'},\n",
       "  {'constant': False,\n",
       "   'inputs': [{'name': '_var', 'type': 'uint8'}],\n",
       "   'name': 'setVar',\n",
       "   'outputs': [],\n",
       "   'payable': False,\n",
       "   'stateMutability': 'nonpayable',\n",
       "   'type': 'function'},\n",
       "  {'anonymous': False,\n",
       "   'inputs': [{'indexed': True, 'name': '_var', 'type': 'uint256'}],\n",
       "   'name': 'MyEvent',\n",
       "   'type': 'event'}],\n",
       " 'asm': {'.code': [{'begin': 0, 'end': 262, 'name': 'PUSH', 'value': '80'},\n",
       "   {'begin': 0, 'end': 262, 'name': 'PUSH', 'value': '40'},\n",
       "   {'begin': 0, 'end': 262, 'name': 'MSTORE'},\n",
       "   {'begin': 0, 'end': 262, 'name': 'CALLVALUE'},\n",
       "   {'begin': 8, 'end': 17, 'name': 'DUP1'},\n",
       "   {'begin': 5, 'end': 7, 'name': 'ISZERO'},\n",
       "   {'begin': 5, 'end': 7, 'name': 'PUSH [tag]', 'value': '1'},\n",
       "   {'begin': 5, 'end': 7, 'name': 'JUMPI'},\n",
       "   {'begin': 30, 'end': 31, 'name': 'PUSH', 'value': '0'},\n",
       "   {'begin': 27, 'end': 28, 'name': 'DUP1'},\n",
       "   {'begin': 20, 'end': 32, 'name': 'REVERT'},\n",
       "   {'begin': 5, 'end': 7, 'name': 'tag', 'value': '1'},\n",
       "   {'begin': 5, 'end': 7, 'name': 'JUMPDEST'},\n",
       "   {'begin': 0, 'end': 262, 'name': 'POP'},\n",
       "   {'begin': 0,\n",
       "    'end': 262,\n",
       "    'name': 'PUSH #[$]',\n",
       "    'value': '0000000000000000000000000000000000000000000000000000000000000000'},\n",
       "   {'begin': 0, 'end': 262, 'name': 'DUP1'},\n",
       "   {'begin': 0,\n",
       "    'end': 262,\n",
       "    'name': 'PUSH [$]',\n",
       "    'value': '0000000000000000000000000000000000000000000000000000000000000000'},\n",
       "   {'begin': 0, 'end': 262, 'name': 'PUSH', 'value': '0'},\n",
       "   {'begin': 0, 'end': 262, 'name': 'CODECOPY'},\n",
       "   {'begin': 0, 'end': 262, 'name': 'PUSH', 'value': '0'},\n",
       "   {'begin': 0, 'end': 262, 'name': 'RETURN'}],\n",
       "  '.data': {'0': {'.auxdata': 'a165627a7a72305820e91a9290ababd7a0b53c14553e1023e2fb42ca34d2abf14b2590eaf3e0b31f990029',\n",
       "    '.code': [{'begin': 0, 'end': 262, 'name': 'PUSH', 'value': '80'},\n",
       "     {'begin': 0, 'end': 262, 'name': 'PUSH', 'value': '40'},\n",
       "     {'begin': 0, 'end': 262, 'name': 'MSTORE'},\n",
       "     {'begin': 0, 'end': 262, 'name': 'PUSH', 'value': '4'},\n",
       "     {'begin': 0, 'end': 262, 'name': 'CALLDATASIZE'},\n",
       "     {'begin': 0, 'end': 262, 'name': 'LT'},\n",
       "     {'begin': 0, 'end': 262, 'name': 'PUSH [tag]', 'value': '1'},\n",
       "     {'begin': 0, 'end': 262, 'name': 'JUMPI'},\n",
       "     {'begin': 0, 'end': 262, 'name': 'PUSH', 'value': '0'},\n",
       "     {'begin': 0, 'end': 262, 'name': 'CALLDATALOAD'},\n",
       "     {'begin': 0,\n",
       "      'end': 262,\n",
       "      'name': 'PUSH',\n",
       "      'value': '100000000000000000000000000000000000000000000000000000000'},\n",
       "     {'begin': 0, 'end': 262, 'name': 'SWAP1'},\n",
       "     {'begin': 0, 'end': 262, 'name': 'DIV'},\n",
       "     {'begin': 0, 'end': 262, 'name': 'PUSH', 'value': 'FFFFFFFF'},\n",
       "     {'begin': 0, 'end': 262, 'name': 'AND'},\n",
       "     {'begin': 0, 'end': 262, 'name': 'DUP1'},\n",
       "     {'begin': 0, 'end': 262, 'name': 'PUSH', 'value': '1AD4D87'},\n",
       "     {'begin': 0, 'end': 262, 'name': 'EQ'},\n",
       "     {'begin': 0, 'end': 262, 'name': 'PUSH [tag]', 'value': '2'},\n",
       "     {'begin': 0, 'end': 262, 'name': 'JUMPI'},\n",
       "     {'begin': 0, 'end': 262, 'name': 'DUP1'},\n",
       "     {'begin': 0, 'end': 262, 'name': 'PUSH', 'value': '477A5C98'},\n",
       "     {'begin': 0, 'end': 262, 'name': 'EQ'},\n",
       "     {'begin': 0, 'end': 262, 'name': 'PUSH [tag]', 'value': '3'},\n",
       "     {'begin': 0, 'end': 262, 'name': 'JUMPI'},\n",
       "     {'begin': 0, 'end': 262, 'name': 'DUP1'},\n",
       "     {'begin': 0, 'end': 262, 'name': 'PUSH', 'value': 'EDD89C08'},\n",
       "     {'begin': 0, 'end': 262, 'name': 'EQ'},\n",
       "     {'begin': 0, 'end': 262, 'name': 'PUSH [tag]', 'value': '4'},\n",
       "     {'begin': 0, 'end': 262, 'name': 'JUMPI'},\n",
       "     {'begin': 0, 'end': 262, 'name': 'tag', 'value': '1'},\n",
       "     {'begin': 0, 'end': 262, 'name': 'JUMPDEST'},\n",
       "     {'begin': 0, 'end': 262, 'name': 'PUSH', 'value': '0'},\n",
       "     {'begin': 0, 'end': 262, 'name': 'DUP1'},\n",
       "     {'begin': 0, 'end': 262, 'name': 'REVERT'},\n",
       "     {'begin': 25, 'end': 44, 'name': 'tag', 'value': '2'},\n",
       "     {'begin': 25, 'end': 44, 'name': 'JUMPDEST'},\n",
       "     {'begin': 25, 'end': 44, 'name': 'CALLVALUE'},\n",
       "     {'begin': 8, 'end': 17, 'name': 'DUP1'},\n",
       "     {'begin': 5, 'end': 7, 'name': 'ISZERO'},\n",
       "     {'begin': 5, 'end': 7, 'name': 'PUSH [tag]', 'value': '5'},\n",
       "     {'begin': 5, 'end': 7, 'name': 'JUMPI'},\n",
       "     {'begin': 30, 'end': 31, 'name': 'PUSH', 'value': '0'},\n",
       "     {'begin': 27, 'end': 28, 'name': 'DUP1'},\n",
       "     {'begin': 20, 'end': 32, 'name': 'REVERT'},\n",
       "     {'begin': 5, 'end': 7, 'name': 'tag', 'value': '5'},\n",
       "     {'begin': 5, 'end': 7, 'name': 'JUMPDEST'},\n",
       "     {'begin': 25, 'end': 44, 'name': 'POP'},\n",
       "     {'begin': 25, 'end': 44, 'name': 'PUSH [tag]', 'value': '6'},\n",
       "     {'begin': 25, 'end': 44, 'name': 'PUSH [tag]', 'value': '7'},\n",
       "     {'begin': 25, 'end': 44, 'name': 'JUMP'},\n",
       "     {'begin': 25, 'end': 44, 'name': 'tag', 'value': '6'},\n",
       "     {'begin': 25, 'end': 44, 'name': 'JUMPDEST'},\n",
       "     {'begin': 25, 'end': 44, 'name': 'PUSH', 'value': '40'},\n",
       "     {'begin': 25, 'end': 44, 'name': 'MLOAD'},\n",
       "     {'begin': 25, 'end': 44, 'name': 'DUP1'},\n",
       "     {'begin': 25, 'end': 44, 'name': 'DUP3'},\n",
       "     {'begin': 25, 'end': 44, 'name': 'PUSH', 'value': 'FF'},\n",
       "     {'begin': 25, 'end': 44, 'name': 'AND'},\n",
       "     {'begin': 25, 'end': 44, 'name': 'PUSH', 'value': 'FF'},\n",
       "     {'begin': 25, 'end': 44, 'name': 'AND'},\n",
       "     {'begin': 25, 'end': 44, 'name': 'DUP2'},\n",
       "     {'begin': 25, 'end': 44, 'name': 'MSTORE'},\n",
       "     {'begin': 25, 'end': 44, 'name': 'PUSH', 'value': '20'},\n",
       "     {'begin': 25, 'end': 44, 'name': 'ADD'},\n",
       "     {'begin': 25, 'end': 44, 'name': 'SWAP2'},\n",
       "     {'begin': 25, 'end': 44, 'name': 'POP'},\n",
       "     {'begin': 25, 'end': 44, 'name': 'POP'},\n",
       "     {'begin': 25, 'end': 44, 'name': 'PUSH', 'value': '40'},\n",
       "     {'begin': 25, 'end': 44, 'name': 'MLOAD'},\n",
       "     {'begin': 25, 'end': 44, 'name': 'DUP1'},\n",
       "     {'begin': 25, 'end': 44, 'name': 'SWAP2'},\n",
       "     {'begin': 25, 'end': 44, 'name': 'SUB'},\n",
       "     {'begin': 25, 'end': 44, 'name': 'SWAP1'},\n",
       "     {'begin': 25, 'end': 44, 'name': 'RETURN'},\n",
       "     {'begin': 183, 'end': 259, 'name': 'tag', 'value': '3'},\n",
       "     {'begin': 183, 'end': 259, 'name': 'JUMPDEST'},\n",
       "     {'begin': 183, 'end': 259, 'name': 'CALLVALUE'},\n",
       "     {'begin': 8, 'end': 17, 'name': 'DUP1'},\n",
       "     {'begin': 5, 'end': 7, 'name': 'ISZERO'},\n",
       "     {'begin': 5, 'end': 7, 'name': 'PUSH [tag]', 'value': '8'},\n",
       "     {'begin': 5, 'end': 7, 'name': 'JUMPI'},\n",
       "     {'begin': 30, 'end': 31, 'name': 'PUSH', 'value': '0'},\n",
       "     {'begin': 27, 'end': 28, 'name': 'DUP1'},\n",
       "     {'begin': 20, 'end': 32, 'name': 'REVERT'},\n",
       "     {'begin': 5, 'end': 7, 'name': 'tag', 'value': '8'},\n",
       "     {'begin': 5, 'end': 7, 'name': 'JUMPDEST'},\n",
       "     {'begin': 183, 'end': 259, 'name': 'POP'},\n",
       "     {'begin': 183, 'end': 259, 'name': 'PUSH [tag]', 'value': '9'},\n",
       "     {'begin': 183, 'end': 259, 'name': 'PUSH [tag]', 'value': '10'},\n",
       "     {'begin': 183, 'end': 259, 'name': 'JUMP'},\n",
       "     {'begin': 183, 'end': 259, 'name': 'tag', 'value': '9'},\n",
       "     {'begin': 183, 'end': 259, 'name': 'JUMPDEST'},\n",
       "     {'begin': 183, 'end': 259, 'name': 'PUSH', 'value': '40'},\n",
       "     {'begin': 183, 'end': 259, 'name': 'MLOAD'},\n",
       "     {'begin': 183, 'end': 259, 'name': 'DUP1'},\n",
       "     {'begin': 183, 'end': 259, 'name': 'DUP3'},\n",
       "     {'begin': 183, 'end': 259, 'name': 'PUSH', 'value': 'FF'},\n",
       "     {'begin': 183, 'end': 259, 'name': 'AND'},\n",
       "     {'begin': 183, 'end': 259, 'name': 'PUSH', 'value': 'FF'},\n",
       "     {'begin': 183, 'end': 259, 'name': 'AND'},\n",
       "     {'begin': 183, 'end': 259, 'name': 'DUP2'},\n",
       "     {'begin': 183, 'end': 259, 'name': 'MSTORE'},\n",
       "     {'begin': 183, 'end': 259, 'name': 'PUSH', 'value': '20'},\n",
       "     {'begin': 183, 'end': 259, 'name': 'ADD'},\n",
       "     {'begin': 183, 'end': 259, 'name': 'SWAP2'},\n",
       "     {'begin': 183, 'end': 259, 'name': 'POP'},\n",
       "     {'begin': 183, 'end': 259, 'name': 'POP'},\n",
       "     {'begin': 183, 'end': 259, 'name': 'PUSH', 'value': '40'},\n",
       "     {'begin': 183, 'end': 259, 'name': 'MLOAD'},\n",
       "     {'begin': 183, 'end': 259, 'name': 'DUP1'},\n",
       "     {'begin': 183, 'end': 259, 'name': 'SWAP2'},\n",
       "     {'begin': 183, 'end': 259, 'name': 'SUB'},\n",
       "     {'begin': 183, 'end': 259, 'name': 'SWAP1'},\n",
       "     {'begin': 183, 'end': 259, 'name': 'RETURN'},\n",
       "     {'begin': 89, 'end': 177, 'name': 'tag', 'value': '4'},\n",
       "     {'begin': 89, 'end': 177, 'name': 'JUMPDEST'},\n",
       "     {'begin': 89, 'end': 177, 'name': 'CALLVALUE'},\n",
       "     {'begin': 8, 'end': 17, 'name': 'DUP1'},\n",
       "     {'begin': 5, 'end': 7, 'name': 'ISZERO'},\n",
       "     {'begin': 5, 'end': 7, 'name': 'PUSH [tag]', 'value': '11'},\n",
       "     {'begin': 5, 'end': 7, 'name': 'JUMPI'},\n",
       "     {'begin': 30, 'end': 31, 'name': 'PUSH', 'value': '0'},\n",
       "     {'begin': 27, 'end': 28, 'name': 'DUP1'},\n",
       "     {'begin': 20, 'end': 32, 'name': 'REVERT'},\n",
       "     {'begin': 5, 'end': 7, 'name': 'tag', 'value': '11'},\n",
       "     {'begin': 5, 'end': 7, 'name': 'JUMPDEST'},\n",
       "     {'begin': 89, 'end': 177, 'name': 'POP'},\n",
       "     {'begin': 89, 'end': 177, 'name': 'PUSH [tag]', 'value': '12'},\n",
       "     {'begin': 89, 'end': 177, 'name': 'PUSH', 'value': '4'},\n",
       "     {'begin': 89, 'end': 177, 'name': 'DUP1'},\n",
       "     {'begin': 89, 'end': 177, 'name': 'CALLDATASIZE'},\n",
       "     {'begin': 89, 'end': 177, 'name': 'SUB'},\n",
       "     {'begin': 89, 'end': 177, 'name': 'DUP2'},\n",
       "     {'begin': 89, 'end': 177, 'name': 'ADD'},\n",
       "     {'begin': 89, 'end': 177, 'name': 'SWAP1'},\n",
       "     {'begin': 89, 'end': 177, 'name': 'DUP1'},\n",
       "     {'begin': 89, 'end': 177, 'name': 'DUP1'},\n",
       "     {'begin': 89, 'end': 177, 'name': 'CALLDATALOAD'},\n",
       "     {'begin': 89, 'end': 177, 'name': 'PUSH', 'value': 'FF'},\n",
       "     {'begin': 89, 'end': 177, 'name': 'AND'},\n",
       "     {'begin': 89, 'end': 177, 'name': 'SWAP1'},\n",
       "     {'begin': 89, 'end': 177, 'name': 'PUSH', 'value': '20'},\n",
       "     {'begin': 89, 'end': 177, 'name': 'ADD'},\n",
       "     {'begin': 89, 'end': 177, 'name': 'SWAP1'},\n",
       "     {'begin': 89, 'end': 177, 'name': 'SWAP3'},\n",
       "     {'begin': 89, 'end': 177, 'name': 'SWAP2'},\n",
       "     {'begin': 89, 'end': 177, 'name': 'SWAP1'},\n",
       "     {'begin': 89, 'end': 177, 'name': 'POP'},\n",
       "     {'begin': 89, 'end': 177, 'name': 'POP'},\n",
       "     {'begin': 89, 'end': 177, 'name': 'POP'},\n",
       "     {'begin': 89, 'end': 177, 'name': 'PUSH [tag]', 'value': '13'},\n",
       "     {'begin': 89, 'end': 177, 'name': 'JUMP'},\n",
       "     {'begin': 89, 'end': 177, 'name': 'tag', 'value': '12'},\n",
       "     {'begin': 89, 'end': 177, 'name': 'JUMPDEST'},\n",
       "     {'begin': 89, 'end': 177, 'name': 'STOP'},\n",
       "     {'begin': 25, 'end': 44, 'name': 'tag', 'value': '7'},\n",
       "     {'begin': 25, 'end': 44, 'name': 'JUMPDEST'},\n",
       "     {'begin': 25, 'end': 44, 'name': 'PUSH', 'value': '0'},\n",
       "     {'begin': 25, 'end': 44, 'name': 'DUP1'},\n",
       "     {'begin': 25, 'end': 44, 'name': 'SWAP1'},\n",
       "     {'begin': 25, 'end': 44, 'name': 'SLOAD'},\n",
       "     {'begin': 25, 'end': 44, 'name': 'SWAP1'},\n",
       "     {'begin': 25, 'end': 44, 'name': 'PUSH', 'value': '100'},\n",
       "     {'begin': 25, 'end': 44, 'name': 'EXP'},\n",
       "     {'begin': 25, 'end': 44, 'name': 'SWAP1'},\n",
       "     {'begin': 25, 'end': 44, 'name': 'DIV'},\n",
       "     {'begin': 25, 'end': 44, 'name': 'PUSH', 'value': 'FF'},\n",
       "     {'begin': 25, 'end': 44, 'name': 'AND'},\n",
       "     {'begin': 25, 'end': 44, 'name': 'DUP2'},\n",
       "     {'begin': 25, 'end': 44, 'name': 'JUMP', 'value': '[out]'},\n",
       "     {'begin': 183, 'end': 259, 'name': 'tag', 'value': '10'},\n",
       "     {'begin': 183, 'end': 259, 'name': 'JUMPDEST'},\n",
       "     {'begin': 222, 'end': 227, 'name': 'PUSH', 'value': '0'},\n",
       "     {'begin': 246, 'end': 252, 'name': 'DUP1'},\n",
       "     {'begin': 246, 'end': 252, 'name': 'PUSH', 'value': '0'},\n",
       "     {'begin': 246, 'end': 252, 'name': 'SWAP1'},\n",
       "     {'begin': 246, 'end': 252, 'name': 'SLOAD'},\n",
       "     {'begin': 246, 'end': 252, 'name': 'SWAP1'},\n",
       "     {'begin': 246, 'end': 252, 'name': 'PUSH', 'value': '100'},\n",
       "     {'begin': 246, 'end': 252, 'name': 'EXP'},\n",
       "     {'begin': 246, 'end': 252, 'name': 'SWAP1'},\n",
       "     {'begin': 246, 'end': 252, 'name': 'DIV'},\n",
       "     {'begin': 246, 'end': 252, 'name': 'PUSH', 'value': 'FF'},\n",
       "     {'begin': 246, 'end': 252, 'name': 'AND'},\n",
       "     {'begin': 239, 'end': 252, 'name': 'SWAP1'},\n",
       "     {'begin': 239, 'end': 252, 'name': 'POP'},\n",
       "     {'begin': 183, 'end': 259, 'name': 'SWAP1'},\n",
       "     {'begin': 183, 'end': 259, 'name': 'JUMP', 'value': '[out]'},\n",
       "     {'begin': 89, 'end': 177, 'name': 'tag', 'value': '13'},\n",
       "     {'begin': 89, 'end': 177, 'name': 'JUMPDEST'},\n",
       "     {'begin': 143, 'end': 147, 'name': 'DUP1'},\n",
       "     {'begin': 134, 'end': 140, 'name': 'PUSH', 'value': '0'},\n",
       "     {'begin': 134, 'end': 140, 'name': 'DUP1'},\n",
       "     {'begin': 134, 'end': 147, 'name': 'PUSH', 'value': '100'},\n",
       "     {'begin': 134, 'end': 147, 'name': 'EXP'},\n",
       "     {'begin': 134, 'end': 147, 'name': 'DUP2'},\n",
       "     {'begin': 134, 'end': 147, 'name': 'SLOAD'},\n",
       "     {'begin': 134, 'end': 147, 'name': 'DUP2'},\n",
       "     {'begin': 134, 'end': 147, 'name': 'PUSH', 'value': 'FF'},\n",
       "     {'begin': 134, 'end': 147, 'name': 'MUL'},\n",
       "     {'begin': 134, 'end': 147, 'name': 'NOT'},\n",
       "     {'begin': 134, 'end': 147, 'name': 'AND'},\n",
       "     {'begin': 134, 'end': 147, 'name': 'SWAP1'},\n",
       "     {'begin': 134, 'end': 147, 'name': 'DUP4'},\n",
       "     {'begin': 134, 'end': 147, 'name': 'PUSH', 'value': 'FF'},\n",
       "     {'begin': 134, 'end': 147, 'name': 'AND'},\n",
       "     {'begin': 134, 'end': 147, 'name': 'MUL'},\n",
       "     {'begin': 134, 'end': 147, 'name': 'OR'},\n",
       "     {'begin': 134, 'end': 147, 'name': 'SWAP1'},\n",
       "     {'begin': 134, 'end': 147, 'name': 'SSTORE'},\n",
       "     {'begin': 134, 'end': 147, 'name': 'POP'},\n",
       "     {'begin': 165, 'end': 169, 'name': 'DUP1'},\n",
       "     {'begin': 157, 'end': 170, 'name': 'PUSH', 'value': 'FF'},\n",
       "     {'begin': 157, 'end': 170, 'name': 'AND'},\n",
       "     {'begin': 157,\n",
       "      'end': 170,\n",
       "      'name': 'PUSH',\n",
       "      'value': '6C2B4666BA8DA5A95717621D879A77DE725F3D816709B9CBE9F059B8F875E284'},\n",
       "     {'begin': 157, 'end': 170, 'name': 'PUSH', 'value': '40'},\n",
       "     {'begin': 157, 'end': 170, 'name': 'MLOAD'},\n",
       "     {'begin': 157, 'end': 170, 'name': 'PUSH', 'value': '40'},\n",
       "     {'begin': 157, 'end': 170, 'name': 'MLOAD'},\n",
       "     {'begin': 157, 'end': 170, 'name': 'DUP1'},\n",
       "     {'begin': 157, 'end': 170, 'name': 'SWAP2'},\n",
       "     {'begin': 157, 'end': 170, 'name': 'SUB'},\n",
       "     {'begin': 157, 'end': 170, 'name': 'SWAP1'},\n",
       "     {'begin': 157, 'end': 170, 'name': 'LOG2'},\n",
       "     {'begin': 89, 'end': 177, 'name': 'POP'},\n",
       "     {'begin': 89, 'end': 177, 'name': 'JUMP', 'value': '[out]'}]}}},\n",
       " 'bin': '608060405234801561001057600080fd5b5061018f806100206000396000f300608060405260043610610057576000357c0100000000000000000000000000000000000000000000000000000000900463ffffffff16806301ad4d871461005c578063477a5c981461008d578063edd89c08146100be575b600080fd5b34801561006857600080fd5b506100716100ee565b604051808260ff1660ff16815260200191505060405180910390f35b34801561009957600080fd5b506100a2610100565b604051808260ff1660ff16815260200191505060405180910390f35b3480156100ca57600080fd5b506100ec600480360381019080803560ff169060200190929190505050610116565b005b6000809054906101000a900460ff1681565b60008060009054906101000a900460ff16905090565b806000806101000a81548160ff021916908360ff1602179055508060ff167f6c2b4666ba8da5a95717621d879a77de725f3d816709b9cbe9f059b8f875e28460405160405180910390a2505600a165627a7a72305820e91a9290ababd7a0b53c14553e1023e2fb42ca34d2abf14b2590eaf3e0b31f990029',\n",
       " 'bin-runtime': '608060405260043610610057576000357c0100000000000000000000000000000000000000000000000000000000900463ffffffff16806301ad4d871461005c578063477a5c981461008d578063edd89c08146100be575b600080fd5b34801561006857600080fd5b506100716100ee565b604051808260ff1660ff16815260200191505060405180910390f35b34801561009957600080fd5b506100a2610100565b604051808260ff1660ff16815260200191505060405180910390f35b3480156100ca57600080fd5b506100ec600480360381019080803560ff169060200190929190505050610116565b005b6000809054906101000a900460ff1681565b60008060009054906101000a900460ff16905090565b806000806101000a81548160ff021916908360ff1602179055508060ff167f6c2b4666ba8da5a95717621d879a77de725f3d816709b9cbe9f059b8f875e28460405160405180910390a2505600a165627a7a72305820e91a9290ababd7a0b53c14553e1023e2fb42ca34d2abf14b2590eaf3e0b31f990029',\n",
       " 'clone-bin': '6080604052348015600f57600080fd5b50603380601d6000396000f30036600080376020600036600073cafecafecafecafecafecafecafecafecafecafe6102c65a03f41515602d57fe5b60206000f3',\n",
       " 'devdoc': '{\"methods\":{}}',\n",
       " 'opcodes': 'PUSH1 0x80 PUSH1 0x40 MSTORE CALLVALUE DUP1 ISZERO PUSH2 0x10 JUMPI PUSH1 0x0 DUP1 REVERT JUMPDEST POP PUSH2 0x18F DUP1 PUSH2 0x20 PUSH1 0x0 CODECOPY PUSH1 0x0 RETURN STOP PUSH1 0x80 PUSH1 0x40 MSTORE PUSH1 0x4 CALLDATASIZE LT PUSH2 0x57 JUMPI PUSH1 0x0 CALLDATALOAD PUSH29 0x100000000000000000000000000000000000000000000000000000000 SWAP1 DIV PUSH4 0xFFFFFFFF AND DUP1 PUSH4 0x1AD4D87 EQ PUSH2 0x5C JUMPI DUP1 PUSH4 0x477A5C98 EQ PUSH2 0x8D JUMPI DUP1 PUSH4 0xEDD89C08 EQ PUSH2 0xBE JUMPI JUMPDEST PUSH1 0x0 DUP1 REVERT JUMPDEST CALLVALUE DUP1 ISZERO PUSH2 0x68 JUMPI PUSH1 0x0 DUP1 REVERT JUMPDEST POP PUSH2 0x71 PUSH2 0xEE JUMP JUMPDEST PUSH1 0x40 MLOAD DUP1 DUP3 PUSH1 0xFF AND PUSH1 0xFF AND DUP2 MSTORE PUSH1 0x20 ADD SWAP2 POP POP PUSH1 0x40 MLOAD DUP1 SWAP2 SUB SWAP1 RETURN JUMPDEST CALLVALUE DUP1 ISZERO PUSH2 0x99 JUMPI PUSH1 0x0 DUP1 REVERT JUMPDEST POP PUSH2 0xA2 PUSH2 0x100 JUMP JUMPDEST PUSH1 0x40 MLOAD DUP1 DUP3 PUSH1 0xFF AND PUSH1 0xFF AND DUP2 MSTORE PUSH1 0x20 ADD SWAP2 POP POP PUSH1 0x40 MLOAD DUP1 SWAP2 SUB SWAP1 RETURN JUMPDEST CALLVALUE DUP1 ISZERO PUSH2 0xCA JUMPI PUSH1 0x0 DUP1 REVERT JUMPDEST POP PUSH2 0xEC PUSH1 0x4 DUP1 CALLDATASIZE SUB DUP2 ADD SWAP1 DUP1 DUP1 CALLDATALOAD PUSH1 0xFF AND SWAP1 PUSH1 0x20 ADD SWAP1 SWAP3 SWAP2 SWAP1 POP POP POP PUSH2 0x116 JUMP JUMPDEST STOP JUMPDEST PUSH1 0x0 DUP1 SWAP1 SLOAD SWAP1 PUSH2 0x100 EXP SWAP1 DIV PUSH1 0xFF AND DUP2 JUMP JUMPDEST PUSH1 0x0 DUP1 PUSH1 0x0 SWAP1 SLOAD SWAP1 PUSH2 0x100 EXP SWAP1 DIV PUSH1 0xFF AND SWAP1 POP SWAP1 JUMP JUMPDEST DUP1 PUSH1 0x0 DUP1 PUSH2 0x100 EXP DUP2 SLOAD DUP2 PUSH1 0xFF MUL NOT AND SWAP1 DUP4 PUSH1 0xFF AND MUL OR SWAP1 SSTORE POP DUP1 PUSH1 0xFF AND PUSH32 0x6C2B4666BA8DA5A95717621D879A77DE725F3D816709B9CBE9F059B8F875E284 PUSH1 0x40 MLOAD PUSH1 0x40 MLOAD DUP1 SWAP2 SUB SWAP1 LOG2 POP JUMP STOP LOG1 PUSH6 0x627A7A723058 KECCAK256 0xe9 BYTE SWAP3 SWAP1 0xab 0xab 0xd7 LOG0 0xb5 EXTCODECOPY EQ SSTORE RETURNDATACOPY LT 0x23 0xe2 CREATE2 TIMESTAMP 0xca CALLVALUE 0xd2 0xab CALL 0x4b 0x25 SWAP1 0xea RETURN 0xe0 0xb3 0x1f SWAP10 STOP 0x29 ',\n",
       " 'userdoc': '{\"methods\":{}}',\n",
       " 'ast': {'attributes': {'absolutePath': '<stdin>',\n",
       "   'exportedSymbols': {'StoreVar': [29]}},\n",
       "  'children': [{'attributes': {'baseContracts': [None],\n",
       "     'contractDependencies': [None],\n",
       "     'contractKind': 'contract',\n",
       "     'documentation': None,\n",
       "     'fullyImplemented': True,\n",
       "     'linearizedBaseContracts': [29],\n",
       "     'name': 'StoreVar',\n",
       "     'scope': 30},\n",
       "    'children': [{'attributes': {'constant': False,\n",
       "       'name': '_myVar',\n",
       "       'scope': 29,\n",
       "       'stateVariable': True,\n",
       "       'storageLocation': 'default',\n",
       "       'type': 'uint8',\n",
       "       'value': None,\n",
       "       'visibility': 'public'},\n",
       "      'children': [{'attributes': {'name': 'uint8', 'type': 'uint8'},\n",
       "        'id': 1,\n",
       "        'name': 'ElementaryTypeName',\n",
       "        'src': '25:5:0'}],\n",
       "      'id': 2,\n",
       "      'name': 'VariableDeclaration',\n",
       "      'src': '25:19:0'},\n",
       "     {'attributes': {'anonymous': False,\n",
       "       'documentation': None,\n",
       "       'name': 'MyEvent'},\n",
       "      'children': [{'children': [{'attributes': {'constant': False,\n",
       "           'indexed': True,\n",
       "           'name': '_var',\n",
       "           'scope': 6,\n",
       "           'stateVariable': False,\n",
       "           'storageLocation': 'default',\n",
       "           'type': 'uint256',\n",
       "           'value': None,\n",
       "           'visibility': 'internal'},\n",
       "          'children': [{'attributes': {'name': 'uint', 'type': 'uint256'},\n",
       "            'id': 3,\n",
       "            'name': 'ElementaryTypeName',\n",
       "            'src': '64:4:0'}],\n",
       "          'id': 4,\n",
       "          'name': 'VariableDeclaration',\n",
       "          'src': '64:17:0'}],\n",
       "        'id': 5,\n",
       "        'name': 'ParameterList',\n",
       "        'src': '63:19:0'}],\n",
       "      'id': 6,\n",
       "      'name': 'EventDefinition',\n",
       "      'src': '50:33:0'},\n",
       "     {'attributes': {'constant': False,\n",
       "       'documentation': None,\n",
       "       'implemented': True,\n",
       "       'isConstructor': False,\n",
       "       'modifiers': [None],\n",
       "       'name': 'setVar',\n",
       "       'payable': False,\n",
       "       'scope': 29,\n",
       "       'stateMutability': 'nonpayable',\n",
       "       'superFunction': None,\n",
       "       'visibility': 'public'},\n",
       "      'children': [{'children': [{'attributes': {'constant': False,\n",
       "           'name': '_var',\n",
       "           'scope': 20,\n",
       "           'stateVariable': False,\n",
       "           'storageLocation': 'default',\n",
       "           'type': 'uint8',\n",
       "           'value': None,\n",
       "           'visibility': 'internal'},\n",
       "          'children': [{'attributes': {'name': 'uint8', 'type': 'uint8'},\n",
       "            'id': 7,\n",
       "            'name': 'ElementaryTypeName',\n",
       "            'src': '105:5:0'}],\n",
       "          'id': 8,\n",
       "          'name': 'VariableDeclaration',\n",
       "          'src': '105:10:0'}],\n",
       "        'id': 9,\n",
       "        'name': 'ParameterList',\n",
       "        'src': '104:12:0'},\n",
       "       {'attributes': {'parameters': [None]},\n",
       "        'children': [],\n",
       "        'id': 10,\n",
       "        'name': 'ParameterList',\n",
       "        'src': '124:0:0'},\n",
       "       {'children': [{'children': [{'attributes': {'argumentTypes': None,\n",
       "             'isConstant': False,\n",
       "             'isLValue': False,\n",
       "             'isPure': False,\n",
       "             'lValueRequested': False,\n",
       "             'operator': '=',\n",
       "             'type': 'uint8'},\n",
       "            'children': [{'attributes': {'argumentTypes': None,\n",
       "               'overloadedDeclarations': [None],\n",
       "               'referencedDeclaration': 2,\n",
       "               'type': 'uint8',\n",
       "               'value': '_myVar'},\n",
       "              'id': 11,\n",
       "              'name': 'Identifier',\n",
       "              'src': '134:6:0'},\n",
       "             {'attributes': {'argumentTypes': None,\n",
       "               'overloadedDeclarations': [None],\n",
       "               'referencedDeclaration': 8,\n",
       "               'type': 'uint8',\n",
       "               'value': '_var'},\n",
       "              'id': 12,\n",
       "              'name': 'Identifier',\n",
       "              'src': '143:4:0'}],\n",
       "            'id': 13,\n",
       "            'name': 'Assignment',\n",
       "            'src': '134:13:0'}],\n",
       "          'id': 14,\n",
       "          'name': 'ExpressionStatement',\n",
       "          'src': '134:13:0'},\n",
       "         {'children': [{'attributes': {'argumentTypes': None,\n",
       "             'isConstant': False,\n",
       "             'isLValue': False,\n",
       "             'isPure': False,\n",
       "             'isStructConstructorCall': False,\n",
       "             'lValueRequested': False,\n",
       "             'names': [None],\n",
       "             'type': 'tuple()',\n",
       "             'type_conversion': False},\n",
       "            'children': [{'attributes': {'argumentTypes': [{'typeIdentifier': 't_uint8',\n",
       "                 'typeString': 'uint8'}],\n",
       "               'overloadedDeclarations': [None],\n",
       "               'referencedDeclaration': 6,\n",
       "               'type': 'function (uint256)',\n",
       "               'value': 'MyEvent'},\n",
       "              'id': 15,\n",
       "              'name': 'Identifier',\n",
       "              'src': '157:7:0'},\n",
       "             {'attributes': {'argumentTypes': None,\n",
       "               'overloadedDeclarations': [None],\n",
       "               'referencedDeclaration': 8,\n",
       "               'type': 'uint8',\n",
       "               'value': '_var'},\n",
       "              'id': 16,\n",
       "              'name': 'Identifier',\n",
       "              'src': '165:4:0'}],\n",
       "            'id': 17,\n",
       "            'name': 'FunctionCall',\n",
       "            'src': '157:13:0'}],\n",
       "          'id': 18,\n",
       "          'name': 'ExpressionStatement',\n",
       "          'src': '157:13:0'}],\n",
       "        'id': 19,\n",
       "        'name': 'Block',\n",
       "        'src': '124:53:0'}],\n",
       "      'id': 20,\n",
       "      'name': 'FunctionDefinition',\n",
       "      'src': '89:88:0'},\n",
       "     {'attributes': {'constant': True,\n",
       "       'documentation': None,\n",
       "       'implemented': True,\n",
       "       'isConstructor': False,\n",
       "       'modifiers': [None],\n",
       "       'name': 'getVar',\n",
       "       'payable': False,\n",
       "       'scope': 29,\n",
       "       'stateMutability': 'view',\n",
       "       'superFunction': None,\n",
       "       'visibility': 'public'},\n",
       "      'children': [{'attributes': {'parameters': [None]},\n",
       "        'children': [],\n",
       "        'id': 21,\n",
       "        'name': 'ParameterList',\n",
       "        'src': '198:2:0'},\n",
       "       {'children': [{'attributes': {'constant': False,\n",
       "           'name': '',\n",
       "           'scope': 28,\n",
       "           'stateVariable': False,\n",
       "           'storageLocation': 'default',\n",
       "           'type': 'uint8',\n",
       "           'value': None,\n",
       "           'visibility': 'internal'},\n",
       "          'children': [{'attributes': {'name': 'uint8', 'type': 'uint8'},\n",
       "            'id': 22,\n",
       "            'name': 'ElementaryTypeName',\n",
       "            'src': '222:5:0'}],\n",
       "          'id': 23,\n",
       "          'name': 'VariableDeclaration',\n",
       "          'src': '222:5:0'}],\n",
       "        'id': 24,\n",
       "        'name': 'ParameterList',\n",
       "        'src': '221:7:0'},\n",
       "       {'children': [{'attributes': {'functionReturnParameters': 24},\n",
       "          'children': [{'attributes': {'argumentTypes': None,\n",
       "             'overloadedDeclarations': [None],\n",
       "             'referencedDeclaration': 2,\n",
       "             'type': 'uint8',\n",
       "             'value': '_myVar'},\n",
       "            'id': 25,\n",
       "            'name': 'Identifier',\n",
       "            'src': '246:6:0'}],\n",
       "          'id': 26,\n",
       "          'name': 'Return',\n",
       "          'src': '239:13:0'}],\n",
       "        'id': 27,\n",
       "        'name': 'Block',\n",
       "        'src': '229:30:0'}],\n",
       "      'id': 28,\n",
       "      'name': 'FunctionDefinition',\n",
       "      'src': '183:76:0'}],\n",
       "    'id': 29,\n",
       "    'name': 'ContractDefinition',\n",
       "    'src': '0:262:0'}],\n",
       "  'id': 30,\n",
       "  'name': 'SourceUnit',\n",
       "  'src': '0:263:0'}}"
      ]
     },
     "execution_count": 17,
     "metadata": {},
     "output_type": "execute_result"
    }
   ],
   "source": [
    "# Interface contains ABI and more\n",
    "contract_interface"
   ]
  },
  {
   "cell_type": "markdown",
   "metadata": {},
   "source": [
    "Up to this point everything is working. We can compile the contract and also have the abi and binary code conveniently stored in our ```contract_interface```."
   ]
  },
  {
   "cell_type": "markdown",
   "metadata": {},
   "source": [
    "---"
   ]
  },
  {
   "cell_type": "markdown",
   "metadata": {},
   "source": [
    "### Deploy Contract"
   ]
  },
  {
   "cell_type": "markdown",
   "metadata": {},
   "source": [
    "Attempt to deploy 1:  \n",
    "Fails"
   ]
  },
  {
   "cell_type": "code",
   "execution_count": null,
   "metadata": {},
   "outputs": [],
   "source": [
    "abi = contract_interface['abi']\n",
    "bytecode = contract_interface['bin']"
   ]
  },
  {
   "cell_type": "code",
   "execution_count": null,
   "metadata": {},
   "outputs": [],
   "source": [
    "tx_hash = w3.eth.contract(abi,bytecode).deploy()"
   ]
  },
  {
   "cell_type": "markdown",
   "metadata": {},
   "source": [
    "Attempt to deploy 2: (exactly as per documentation)    \n",
    "Fails"
   ]
  },
  {
   "cell_type": "code",
   "execution_count": null,
   "metadata": {},
   "outputs": [],
   "source": [
    "def deploy_contract(w3, contract_interface):\n",
    "    tx_hash = w3.eth.contract(\n",
    "        abi=contract_interface['abi'],\n",
    "        bytecode=contract_interface['bin']).deploy()\n",
    "\n",
    "    address = w3.eth.getTransactionReceipt(tx_hash)['contractAddress']\n",
    "    return address"
   ]
  },
  {
   "cell_type": "code",
   "execution_count": null,
   "metadata": {},
   "outputs": [],
   "source": [
    "address = deploy_contract(w3, contract_interface)"
   ]
  },
  {
   "cell_type": "code",
   "execution_count": null,
   "metadata": {},
   "outputs": [],
   "source": [
    "print(\"Deployed {0} to: {1}\\n\".format(contract_id, address))"
   ]
  },
  {
   "cell_type": "markdown",
   "metadata": {},
   "source": [
    "---"
   ]
  },
  {
   "cell_type": "markdown",
   "metadata": {},
   "source": [
    "### Remaining Part of Example Section"
   ]
  },
  {
   "cell_type": "code",
   "execution_count": null,
   "metadata": {},
   "outputs": [],
   "source": [
    "def wait_for_receipt(w3, tx_hash, poll_interval):\n",
    "    while True:\n",
    "        tx_receipt = w3.eth.getTransactionReceipt(tx_hash)\n",
    "        if tx_receipt:\n",
    "            return tx_receipt\n",
    "        time.sleep(poll_interval)"
   ]
  },
  {
   "cell_type": "code",
   "execution_count": null,
   "metadata": {},
   "outputs": [],
   "source": [
    "contract_interface['abi']"
   ]
  },
  {
   "cell_type": "code",
   "execution_count": null,
   "metadata": {},
   "outputs": [],
   "source": [
    "address = deploy_contract(w3, contract_interface)"
   ]
  },
  {
   "cell_type": "code",
   "execution_count": null,
   "metadata": {},
   "outputs": [],
   "source": [
    "print(\"Deployed {0} to: {1}\\n\".format(contract_id, address))"
   ]
  },
  {
   "cell_type": "code",
   "execution_count": null,
   "metadata": {},
   "outputs": [],
   "source": [
    "store_var_contract = w3.eth.contract(\n",
    "   address=address,\n",
    "   abi=contract_interface['abi'])\n",
    "\n",
    "gas_estimate = store_var_contract.functions.setVar(255).estimateGas()\n",
    "print(\"Gas estimate to transact with setVar: {0}\\n\".format(gas_estimate))\n",
    "\n",
    "if gas_estimate < 100000:\n",
    "    print(\"Sending transaction to setVar(255)\\n\")\n",
    "    tx_hash = store_var_contract.functions.setVar(255).transact()\n",
    "    receipt = wait_for_receipt(w3, tx_hash, 1)\n",
    "    print(\"Transaction receipt mined: \\n\")\n",
    "    pprint.pprint(dict(receipt))\n",
    "else:\n",
    "    print(\"Gas cost exceeds 100000\")"
   ]
  },
  {
   "cell_type": "markdown",
   "metadata": {},
   "source": [
    "### Deployment Attempt 2\n",
    "Since the old way to deploy contracts via `w3.eth.contract.deploy()` seems to be deprecated I try out another pathway, as outlined in the contract section of the web3.py documentation [here](https://web3py.readthedocs.io/en/stable/contracts.html?highlight=abi).\n",
    "\n",
    "Note: I replace solc with solcx since solc is throwing errors during compilation. solcx can compile the contract."
   ]
  },
  {
   "cell_type": "code",
   "execution_count": null,
   "metadata": {},
   "outputs": [],
   "source": [
    "#!{sys.executable} -m pip install -U web3[tester]"
   ]
  },
  {
   "cell_type": "markdown",
   "metadata": {},
   "source": [
    "There is a requirement conflict with eth-abi when trying to install web3tester. See if we can use ganache as sandbox instead."
   ]
  },
  {
   "cell_type": "code",
   "execution_count": 23,
   "metadata": {},
   "outputs": [],
   "source": [
    "import json\n",
    "import web3\n",
    "\n",
    "from web3 import Web3\n",
    "from solcx import compile_source\n",
    "from web3.contract import ConciseContract"
   ]
  },
  {
   "cell_type": "code",
   "execution_count": 24,
   "metadata": {},
   "outputs": [],
   "source": [
    "# Solidity source code\n",
    "contract_source_code = '''\n",
    "pragma solidity ^0.4.21;\n",
    "\n",
    "contract Greeter {\n",
    "    string public greeting;\n",
    "\n",
    "    function Greeter() public {\n",
    "        greeting = 'Hello';\n",
    "    }\n",
    "\n",
    "    function setGreeting(string _greeting) public {\n",
    "        greeting = _greeting;\n",
    "    }\n",
    "\n",
    "    function greet() view public returns (string) {\n",
    "        return greeting;\n",
    "    }\n",
    "}\n",
    "'''"
   ]
  },
  {
   "cell_type": "code",
   "execution_count": 32,
   "metadata": {},
   "outputs": [],
   "source": [
    "compiled_sol = compile_source(contract_source_code) # Compiled source code\n",
    "contract_interface = compiled_sol['<stdin>:Greeter']"
   ]
  },
  {
   "cell_type": "markdown",
   "metadata": {},
   "source": [
    "The compilation works fine but only when using solcx instead of solc."
   ]
  },
  {
   "cell_type": "code",
   "execution_count": 31,
   "metadata": {},
   "outputs": [],
   "source": [
    "# web3.py instance\n",
    "# w3 = Web3(Web3.EthereumTesterProvider())\n",
    "# This causes a requirement conflix with eth-abi.. Try to use Ganache instead"
   ]
  },
  {
   "cell_type": "code",
   "execution_count": 35,
   "metadata": {},
   "outputs": [],
   "source": [
    "# Use Ganache for web3 instance\n",
    "w3 = Web3(Web3.HTTPProvider(\"HTTP://127.0.0.1:8545\"))"
   ]
  },
  {
   "cell_type": "code",
   "execution_count": 38,
   "metadata": {},
   "outputs": [],
   "source": [
    "# set pre-funded account as sender\n",
    "w3.eth.defaultAccount = w3.eth.accounts[0]"
   ]
  },
  {
   "cell_type": "code",
   "execution_count": 39,
   "metadata": {},
   "outputs": [],
   "source": [
    "# Instantiate and deploy contract\n",
    "Greeter = w3.eth.contract(abi=contract_interface['abi'], bytecode=contract_interface['bin'])"
   ]
  },
  {
   "cell_type": "code",
   "execution_count": 40,
   "metadata": {},
   "outputs": [],
   "source": [
    "# Submit the transaction that deploys the contract\n",
    "tx_hash = Greeter.constructor().transact()"
   ]
  },
  {
   "cell_type": "markdown",
   "metadata": {},
   "source": [
    "Halleluhjah! This worked :D  \n",
    "The contract is deployed."
   ]
  },
  {
   "cell_type": "code",
   "execution_count": 41,
   "metadata": {},
   "outputs": [],
   "source": [
    "# Wait for the transaction to be mined, and get the transaction receipt\n",
    "tx_receipt = w3.eth.waitForTransactionReceipt(tx_hash)"
   ]
  },
  {
   "cell_type": "code",
   "execution_count": 42,
   "metadata": {
    "collapsed": true
   },
   "outputs": [
    {
     "data": {
      "text/plain": [
       "AttributeDict({'transactionHash': HexBytes('0xe7459bbf5955a416dd9dd59d494bb935b9e0563dc84fe5938817bcfe6b5bd1c2'),\n",
       " 'transactionIndex': 0,\n",
       " 'blockHash': HexBytes('0x4320602cb28f3b7cd403a95229bb54b2379fac91a09ded50380f80a21201a01d'),\n",
       " 'blockNumber': 3,\n",
       " 'from': '0x92d44e8579620f2db88a12e70fe38e8cdb3541ba',\n",
       " 'to': None,\n",
       " 'gasUsed': 364124,\n",
       " 'cumulativeGasUsed': 364124,\n",
       " 'contractAddress': '0xb88966F5cEc4612495F0B9D42b0b4Ad5B0Cf6329',\n",
       " 'logs': [],\n",
       " 'status': 1,\n",
       " 'logsBloom': HexBytes('0x00000000000000000000000000000000000000000000000000000000000000000000000000000000000000000000000000000000000000000000000000000000000000000000000000000000000000000000000000000000000000000000000000000000000000000000000000000000000000000000000000000000000000000000000000000000000000000000000000000000000000000000000000000000000000000000000000000000000000000000000000000000000000000000000000000000000000000000000000000000000000000000000000000000000000000000000000000000000000000000000000000000000000000000000000000000'),\n",
       " 'v': '0x1b',\n",
       " 'r': '0xead626b0e44ac12b6ae2395ee6020671e298719982d2e959b4e45c476da700b6',\n",
       " 's': '0x2675b400614a2917950642740b4a3bdf68b52e91944a0f5035443a487e3c9b98'})"
      ]
     },
     "execution_count": 42,
     "metadata": {},
     "output_type": "execute_result"
    }
   ],
   "source": [
    "tx_receipt"
   ]
  },
  {
   "cell_type": "code",
   "execution_count": 43,
   "metadata": {},
   "outputs": [],
   "source": [
    "# Create the contract instance with the newly-deployed address\n",
    "greeter = w3.eth.contract(\n",
    "    address=tx_receipt.contractAddress,\n",
    "    abi=contract_interface['abi'],\n",
    ")"
   ]
  },
  {
   "cell_type": "code",
   "execution_count": 44,
   "metadata": {},
   "outputs": [
    {
     "name": "stdout",
     "output_type": "stream",
     "text": [
      "Default contract greeting: Hello\n"
     ]
    }
   ],
   "source": [
    "# Display the default greeting from the contract\n",
    "print('Default contract greeting: {}'.format(\n",
    "    greeter.functions.greet().call()\n",
    "))"
   ]
  },
  {
   "cell_type": "code",
   "execution_count": 45,
   "metadata": {
    "collapsed": true
   },
   "outputs": [
    {
     "data": {
      "text/plain": [
       "[{'constant': False,\n",
       "  'inputs': [{'name': '_greeting', 'type': 'string'}],\n",
       "  'name': 'setGreeting',\n",
       "  'outputs': [],\n",
       "  'payable': False,\n",
       "  'stateMutability': 'nonpayable',\n",
       "  'type': 'function'},\n",
       " {'constant': True,\n",
       "  'inputs': [],\n",
       "  'name': 'greet',\n",
       "  'outputs': [{'name': '', 'type': 'string'}],\n",
       "  'payable': False,\n",
       "  'stateMutability': 'view',\n",
       "  'type': 'function'},\n",
       " {'constant': True,\n",
       "  'inputs': [],\n",
       "  'name': 'greeting',\n",
       "  'outputs': [{'name': '', 'type': 'string'}],\n",
       "  'payable': False,\n",
       "  'stateMutability': 'view',\n",
       "  'type': 'function'},\n",
       " {'inputs': [],\n",
       "  'payable': False,\n",
       "  'stateMutability': 'nonpayable',\n",
       "  'type': 'constructor'}]"
      ]
     },
     "execution_count": 45,
     "metadata": {},
     "output_type": "execute_result"
    }
   ],
   "source": [
    "greeter.functions.abi"
   ]
  },
  {
   "cell_type": "code",
   "execution_count": 49,
   "metadata": {},
   "outputs": [
    {
     "data": {
      "text/plain": [
       "'Hello'"
      ]
     },
     "execution_count": 49,
     "metadata": {},
     "output_type": "execute_result"
    }
   ],
   "source": [
    "greeter.functions.greet().call()"
   ]
  },
  {
   "cell_type": "code",
   "execution_count": 50,
   "metadata": {},
   "outputs": [
    {
     "name": "stdout",
     "output_type": "stream",
     "text": [
      "Setting the greeting to Nihao...\n"
     ]
    }
   ],
   "source": [
    "print('Setting the greeting to Nihao...')\n",
    "tx_hash = greeter.functions.setGreeting('Nihao').transact()"
   ]
  },
  {
   "cell_type": "code",
   "execution_count": 51,
   "metadata": {
    "collapsed": true
   },
   "outputs": [
    {
     "data": {
      "text/plain": [
       "AttributeDict({'transactionHash': HexBytes('0x993f2dfe593f3ac17d448ed5bc62398d508e2826f35d04e0f176748c2c582c51'),\n",
       " 'transactionIndex': 0,\n",
       " 'blockHash': HexBytes('0xa536d7048b29425f89d0e8b9d59e6c1dbc25e8e6aee0df581685e093965e95f6'),\n",
       " 'blockNumber': 4,\n",
       " 'from': '0x92d44e8579620f2db88a12e70fe38e8cdb3541ba',\n",
       " 'to': '0xb88966f5cec4612495f0b9d42b0b4ad5b0cf6329',\n",
       " 'gasUsed': 33068,\n",
       " 'cumulativeGasUsed': 33068,\n",
       " 'contractAddress': None,\n",
       " 'logs': [],\n",
       " 'status': 1,\n",
       " 'logsBloom': HexBytes('0x00000000000000000000000000000000000000000000000000000000000000000000000000000000000000000000000000000000000000000000000000000000000000000000000000000000000000000000000000000000000000000000000000000000000000000000000000000000000000000000000000000000000000000000000000000000000000000000000000000000000000000000000000000000000000000000000000000000000000000000000000000000000000000000000000000000000000000000000000000000000000000000000000000000000000000000000000000000000000000000000000000000000000000000000000000000'),\n",
       " 'v': '0x1b',\n",
       " 'r': '0x8f4729bcb2003714cdaa58a15ba09deb2707c6a526d60c04023e885af423ee45',\n",
       " 's': '0x6ced9b3743d15f2423ac9e57941329331624c9aa85bb48ca33758ec9c6e26b75'})"
      ]
     },
     "execution_count": 51,
     "metadata": {},
     "output_type": "execute_result"
    }
   ],
   "source": [
    "# Wait for transaction to be mined...\n",
    "w3.eth.waitForTransactionReceipt(tx_hash)"
   ]
  },
  {
   "cell_type": "code",
   "execution_count": 52,
   "metadata": {},
   "outputs": [
    {
     "data": {
      "text/plain": [
       "'Nihao'"
      ]
     },
     "execution_count": 52,
     "metadata": {},
     "output_type": "execute_result"
    }
   ],
   "source": [
    "greeter.functions.greet().call()"
   ]
  },
  {
   "cell_type": "markdown",
   "metadata": {},
   "source": [
    "All is working as intended! I am very happy. This gives enough foundation and the examples here can be used as reference for how to interact with LUCE contract functions."
   ]
  },
  {
   "cell_type": "markdown",
   "metadata": {},
   "source": [
    "### Drop Things Here"
   ]
  },
  {
   "cell_type": "code",
   "execution_count": null,
   "metadata": {},
   "outputs": [],
   "source": [
    "# Contract address from Ganache\n",
    "contract_address     = \"0x9B3da536bfFf54974AE3D9151D7C6F5dBE81990E\""
   ]
  }
 ],
 "metadata": {
  "kernelspec": {
   "display_name": "Python 3",
   "language": "python",
   "name": "python3"
  },
  "language_info": {
   "codemirror_mode": {
    "name": "ipython",
    "version": 3
   },
   "file_extension": ".py",
   "mimetype": "text/x-python",
   "name": "python",
   "nbconvert_exporter": "python",
   "pygments_lexer": "ipython3",
   "version": "3.7.3"
  }
 },
 "nbformat": 4,
 "nbformat_minor": 2
}
