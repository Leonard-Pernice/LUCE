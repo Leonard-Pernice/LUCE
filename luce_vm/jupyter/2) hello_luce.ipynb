{
 "cells": [
  {
   "cell_type": "markdown",
   "metadata": {},
   "source": [
    "### Deploy and Interact with LUCE contract\n",
    "The aim of this notebook is to compile, deploy and interact with all functions of the LUCE smart contract (v3)."
   ]
  },
  {
   "cell_type": "markdown",
   "metadata": {},
   "source": [
    "### Compile contract from file"
   ]
  },
  {
   "cell_type": "code",
   "execution_count": 1,
   "metadata": {
    "inputHidden": false,
    "outputHidden": false
   },
   "outputs": [
    {
     "name": "stdout",
     "output_type": "stream",
     "text": [
      "Using solc version v0.4.25\n"
     ]
    }
   ],
   "source": [
    "# Import libraries\n",
    "import json\n",
    "import web3\n",
    "\n",
    "from web3 import Web3\n",
    "from solcx import compile_source\n",
    "from web3.contract import ConciseContract"
   ]
  },
  {
   "cell_type": "code",
   "execution_count": 2,
   "metadata": {},
   "outputs": [],
   "source": [
    "# Read in LUCE contract code\n",
    "with open('./data/luce.sol', 'r') as file:\n",
    "    contract_source_code = file.read()"
   ]
  },
  {
   "cell_type": "code",
   "execution_count": 3,
   "metadata": {},
   "outputs": [],
   "source": [
    "# Compile & Store Compiled source code\n",
    "compiled_sol = compile_source(contract_source_code)"
   ]
  },
  {
   "cell_type": "code",
   "execution_count": 4,
   "metadata": {},
   "outputs": [],
   "source": [
    "#compiled_sol"
   ]
  },
  {
   "cell_type": "code",
   "execution_count": 5,
   "metadata": {},
   "outputs": [],
   "source": [
    "# Extract full interface as dict from compiled contract\n",
    "contract_interface = compiled_sol['<stdin>:Dataset']"
   ]
  },
  {
   "cell_type": "code",
   "execution_count": 9,
   "metadata": {},
   "outputs": [],
   "source": [
    "#contract_interface"
   ]
  },
  {
   "cell_type": "code",
   "execution_count": 10,
   "metadata": {},
   "outputs": [],
   "source": [
    "# Extract abi and bytecode\n",
    "abi = contract_interface['abi']\n",
    "bytecode = contract_interface['bin']"
   ]
  },
  {
   "cell_type": "markdown",
   "metadata": {},
   "source": [
    "### Deploy"
   ]
  },
  {
   "cell_type": "code",
   "execution_count": 11,
   "metadata": {},
   "outputs": [],
   "source": [
    "# Use Ganache for web3 instance\n",
    "w3 = Web3(Web3.HTTPProvider(\"HTTP://127.0.0.1:8545\"))"
   ]
  },
  {
   "cell_type": "code",
   "execution_count": 12,
   "metadata": {},
   "outputs": [],
   "source": [
    "# Set pre-funded ganache account #0 as sender\n",
    "w3.eth.defaultAccount = w3.eth.accounts[0]"
   ]
  },
  {
   "cell_type": "markdown",
   "metadata": {},
   "source": [
    "The default `eth.defaultAccount` address is used as the default \"from\" property for transaction dictionaries if no other explicit \"from\" property is specified."
   ]
  },
  {
   "cell_type": "code",
   "execution_count": 13,
   "metadata": {},
   "outputs": [],
   "source": [
    "# Create contract blueprint\n",
    "Luce = w3.eth.contract(abi=abi, bytecode=bytecode)"
   ]
  },
  {
   "cell_type": "code",
   "execution_count": 14,
   "metadata": {},
   "outputs": [],
   "source": [
    "# Submit the transaction that deploys the contract\n",
    "tx_hash = Luce.constructor().transact()"
   ]
  },
  {
   "cell_type": "markdown",
   "metadata": {},
   "source": [
    "### Obtain Transcation Receipt"
   ]
  },
  {
   "cell_type": "code",
   "execution_count": 15,
   "metadata": {},
   "outputs": [],
   "source": [
    "# Wait for the transaction to be mined, and get the transaction receipt\n",
    "tx_receipt = w3.eth.waitForTransactionReceipt(tx_hash)"
   ]
  },
  {
   "cell_type": "code",
   "execution_count": 17,
   "metadata": {},
   "outputs": [
    {
     "data": {
      "text/plain": [
       "'0x392e7cc6C9Ed71958Bee664FE3C0844B72b69b8A'"
      ]
     },
     "execution_count": 17,
     "metadata": {},
     "output_type": "execute_result"
    }
   ],
   "source": [
    "# Obtain address of freshly deployed contract\n",
    "tx_receipt.contractAddress"
   ]
  },
  {
   "cell_type": "markdown",
   "metadata": {},
   "source": [
    "### Interact with contract"
   ]
  },
  {
   "cell_type": "code",
   "execution_count": 18,
   "metadata": {},
   "outputs": [],
   "source": [
    "# Create python instance of deployed contract\n",
    "luce1 = w3.eth.contract(\n",
    "    address=tx_receipt.contractAddress,\n",
    "    abi=contract_interface['abi'],\n",
    ")"
   ]
  },
  {
   "cell_type": "markdown",
   "metadata": {},
   "source": [
    "**publishData**  \n",
    "```solidity\n",
    "publishData(string memory _newdescription, string memory _link, uint _licence)\n",
    "```"
   ]
  },
  {
   "cell_type": "code",
   "execution_count": 21,
   "metadata": {},
   "outputs": [],
   "source": [
    "# Publish Data\n",
    "tx_hash = luce1.functions.publishData(\"example description\", \"my link\", 6).transact()"
   ]
  },
  {
   "cell_type": "markdown",
   "metadata": {},
   "source": [
    "**setLicence**\n",
    "```solidity\n",
    "setLicence(uint newLicence)\n",
    "```"
   ]
  },
  {
   "cell_type": "code",
   "execution_count": 22,
   "metadata": {},
   "outputs": [],
   "source": [
    "# Set Licence\n",
    "_ = luce1.functions.setLicence(28).transact()"
   ]
  },
  {
   "cell_type": "markdown",
   "metadata": {},
   "source": [
    "From here on I am using `_` to suppress the output of the transaction hash. I do this since transactions are mined instantaneously in the local ganache test setting. On the testnet and mainnet we would store the transaction hash, then wait until a transaction receipt is available and only then we can be sure that the transaction went through."
   ]
  },
  {
   "cell_type": "markdown",
   "metadata": {},
   "source": [
    "**getLicence**\n",
    "```solidity\n",
    "getLicence() public view returns(uint)\n",
    "```"
   ]
  },
  {
   "cell_type": "code",
   "execution_count": 23,
   "metadata": {},
   "outputs": [
    {
     "data": {
      "text/plain": [
       "28"
      ]
     },
     "execution_count": 23,
     "metadata": {},
     "output_type": "execute_result"
    }
   ],
   "source": [
    "# Get Licence\n",
    "luce1.functions.getLicence().call()"
   ]
  },
  {
   "cell_type": "markdown",
   "metadata": {},
   "source": [
    "**updateData**\n",
    "```solidity\n",
    "updateData(string memory updateDescr, string memory _newlink)\n",
    "```"
   ]
  },
  {
   "cell_type": "code",
   "execution_count": 24,
   "metadata": {},
   "outputs": [],
   "source": [
    "# Update Data\n",
    "_ = luce1.functions.updateData(\"New Description\", \"New Link\").transact()"
   ]
  },
  {
   "cell_type": "markdown",
   "metadata": {},
   "source": [
    "**getLink**\n",
    "```solidity\n",
    "getLink(uint token) public view returns(string memory)\n",
    "```"
   ]
  },
  {
   "cell_type": "code",
   "execution_count": 26,
   "metadata": {},
   "outputs": [
    {
     "data": {
      "text/plain": [
       "'New Link'"
      ]
     },
     "execution_count": 26,
     "metadata": {},
     "output_type": "execute_result"
    }
   ],
   "source": [
    "luce1.functions.getLink(1).call()"
   ]
  },
  {
   "cell_type": "markdown",
   "metadata": {},
   "source": [
    "All LUCE functions up to this point are working."
   ]
  },
  {
   "cell_type": "markdown",
   "metadata": {},
   "source": [
    "---"
   ]
  },
  {
   "cell_type": "markdown",
   "metadata": {},
   "source": [
    "We can also query the dataProvider and dataDescription since public variables in smart contracts automatically have a getter method. We simply call them by their name to read the current variable state:"
   ]
  },
  {
   "cell_type": "markdown",
   "metadata": {},
   "source": [
    "**dataProvider**"
   ]
  },
  {
   "cell_type": "code",
   "execution_count": 28,
   "metadata": {},
   "outputs": [
    {
     "data": {
      "text/plain": [
       "'0x92D44e8579620F2Db88A12E70FE38e8CDB3541BA'"
      ]
     },
     "execution_count": 28,
     "metadata": {},
     "output_type": "execute_result"
    }
   ],
   "source": [
    "luce1.functions.dataProvider().call()"
   ]
  },
  {
   "cell_type": "markdown",
   "metadata": {},
   "source": [
    "**dataDescription**"
   ]
  },
  {
   "cell_type": "code",
   "execution_count": 29,
   "metadata": {},
   "outputs": [
    {
     "data": {
      "text/plain": [
       "'New Description'"
      ]
     },
     "execution_count": 29,
     "metadata": {},
     "output_type": "execute_result"
    }
   ],
   "source": [
    "luce1.functions.dataDescription().call()"
   ]
  },
  {
   "cell_type": "markdown",
   "metadata": {},
   "source": [
    "---"
   ]
  },
  {
   "cell_type": "markdown",
   "metadata": {},
   "source": [
    "The following two functions are not working yet and need debugging:"
   ]
  },
  {
   "cell_type": "markdown",
   "metadata": {},
   "source": [
    "**addDataRequester**\n",
    "```solidity\n",
    "addDataRequester(uint purposeCode, uint licenceType) public returns(uint)\n",
    "```"
   ]
  },
  {
   "cell_type": "code",
   "execution_count": 30,
   "metadata": {
    "collapsed": true
   },
   "outputs": [
    {
     "ename": "ValueError",
     "evalue": "{'message': 'VM Exception while processing transaction: revert', 'code': -32000, 'data': {'0x35c443d9a91affeefdc638fd16db80517679658afb715abc057ebc1b35fc70d5': {'error': 'revert', 'program_counter': 3312, 'return': '0x'}, 'stack': 'o: VM Exception while processing transaction: revert\\n    at Function.o.fromResults (/home/vagrant/.nvm/versions/node/v12.4.0/lib/node_modules/ganache-cli/build/ganache-core.node.cli.js:10:81931)\\n    at /home/vagrant/.nvm/versions/node/v12.4.0/lib/node_modules/ganache-cli/build/ganache-core.node.cli.js:47:115772\\n    at /home/vagrant/.nvm/versions/node/v12.4.0/lib/node_modules/ganache-cli/build/ganache-core.node.cli.js:47:96183\\n    at p (/home/vagrant/.nvm/versions/node/v12.4.0/lib/node_modules/ganache-cli/build/ganache-core.node.cli.js:47:95840)\\n    at /home/vagrant/.nvm/versions/node/v12.4.0/lib/node_modules/ganache-cli/build/ganache-core.node.cli.js:47:95893\\n    at t.default (/home/vagrant/.nvm/versions/node/v12.4.0/lib/node_modules/ganache-cli/build/ganache-core.node.cli.js:52:167784)\\n    at /home/vagrant/.nvm/versions/node/v12.4.0/lib/node_modules/ganache-cli/build/ganache-core.node.cli.js:47:96807\\n    at _.n.emit (/home/vagrant/.nvm/versions/node/v12.4.0/lib/node_modules/ganache-cli/build/ganache-core.node.cli.js:61:1210127)\\n    at /home/vagrant/.nvm/versions/node/v12.4.0/lib/node_modules/ganache-cli/build/ganache-core.node.cli.js:61:1848925\\n    at /home/vagrant/.nvm/versions/node/v12.4.0/lib/node_modules/ganache-cli/build/ganache-core.node.cli.js:61:1848948\\n    at /home/vagrant/.nvm/versions/node/v12.4.0/lib/node_modules/ganache-cli/build/ganache-core.node.cli.js:61:499286\\n    at /home/vagrant/.nvm/versions/node/v12.4.0/lib/node_modules/ganache-cli/build/ganache-core.node.cli.js:2:26262\\n    at i (/home/vagrant/.nvm/versions/node/v12.4.0/lib/node_modules/ganache-cli/build/ganache-core.node.cli.js:2:41317)\\n    at /home/vagrant/.nvm/versions/node/v12.4.0/lib/node_modules/ganache-cli/build/ganache-core.node.cli.js:2:21785\\n    at processTicksAndRejections (internal/process/task_queues.js:82:9)', 'name': 'o'}}",
     "output_type": "error",
     "traceback": [
      "\u001b[0;31m---------------------------------------------------------------------------\u001b[0m",
      "\u001b[0;31mValueError\u001b[0m                                Traceback (most recent call last)",
      "\u001b[0;32m<ipython-input-30-3809ad099739>\u001b[0m in \u001b[0;36m<module>\u001b[0;34m\u001b[0m\n\u001b[0;32m----> 1\u001b[0;31m \u001b[0mluce1\u001b[0m\u001b[0;34m.\u001b[0m\u001b[0mfunctions\u001b[0m\u001b[0;34m.\u001b[0m\u001b[0maddDataRequester\u001b[0m\u001b[0;34m(\u001b[0m\u001b[0;36m1\u001b[0m\u001b[0;34m,\u001b[0m\u001b[0;36m2\u001b[0m\u001b[0;34m)\u001b[0m\u001b[0;34m.\u001b[0m\u001b[0mtransact\u001b[0m\u001b[0;34m(\u001b[0m\u001b[0;34m)\u001b[0m\u001b[0;34m\u001b[0m\u001b[0;34m\u001b[0m\u001b[0m\n\u001b[0m",
      "\u001b[0;32m~/miniconda/envs/luce_vm/lib/python3.7/site-packages/web3/contract.py\u001b[0m in \u001b[0;36mtransact\u001b[0;34m(self, transaction)\u001b[0m\n\u001b[1;32m   1149\u001b[0m             \u001b[0mself\u001b[0m\u001b[0;34m.\u001b[0m\u001b[0mabi\u001b[0m\u001b[0;34m,\u001b[0m\u001b[0;34m\u001b[0m\u001b[0;34m\u001b[0m\u001b[0m\n\u001b[1;32m   1150\u001b[0m             \u001b[0;34m*\u001b[0m\u001b[0mself\u001b[0m\u001b[0;34m.\u001b[0m\u001b[0margs\u001b[0m\u001b[0;34m,\u001b[0m\u001b[0;34m\u001b[0m\u001b[0;34m\u001b[0m\u001b[0m\n\u001b[0;32m-> 1151\u001b[0;31m             \u001b[0;34m**\u001b[0m\u001b[0mself\u001b[0m\u001b[0;34m.\u001b[0m\u001b[0mkwargs\u001b[0m\u001b[0;34m\u001b[0m\u001b[0;34m\u001b[0m\u001b[0m\n\u001b[0m\u001b[1;32m   1152\u001b[0m         )\n\u001b[1;32m   1153\u001b[0m \u001b[0;34m\u001b[0m\u001b[0m\n",
      "\u001b[0;32m~/miniconda/envs/luce_vm/lib/python3.7/site-packages/web3/contract.py\u001b[0m in \u001b[0;36mtransact_with_contract_function\u001b[0;34m(address, web3, function_name, transaction, contract_abi, fn_abi, *args, **kwargs)\u001b[0m\n\u001b[1;32m   1452\u001b[0m     )\n\u001b[1;32m   1453\u001b[0m \u001b[0;34m\u001b[0m\u001b[0m\n\u001b[0;32m-> 1454\u001b[0;31m     \u001b[0mtxn_hash\u001b[0m \u001b[0;34m=\u001b[0m \u001b[0mweb3\u001b[0m\u001b[0;34m.\u001b[0m\u001b[0meth\u001b[0m\u001b[0;34m.\u001b[0m\u001b[0msendTransaction\u001b[0m\u001b[0;34m(\u001b[0m\u001b[0mtransact_transaction\u001b[0m\u001b[0;34m)\u001b[0m\u001b[0;34m\u001b[0m\u001b[0;34m\u001b[0m\u001b[0m\n\u001b[0m\u001b[1;32m   1455\u001b[0m     \u001b[0;32mreturn\u001b[0m \u001b[0mtxn_hash\u001b[0m\u001b[0;34m\u001b[0m\u001b[0;34m\u001b[0m\u001b[0m\n\u001b[1;32m   1456\u001b[0m \u001b[0;34m\u001b[0m\u001b[0m\n",
      "\u001b[0;32m~/miniconda/envs/luce_vm/lib/python3.7/site-packages/web3/eth.py\u001b[0m in \u001b[0;36msendTransaction\u001b[0;34m(self, transaction)\u001b[0m\n\u001b[1;32m    267\u001b[0m         return self.web3.manager.request_blocking(\n\u001b[1;32m    268\u001b[0m             \u001b[0;34m\"eth_sendTransaction\"\u001b[0m\u001b[0;34m,\u001b[0m\u001b[0;34m\u001b[0m\u001b[0;34m\u001b[0m\u001b[0m\n\u001b[0;32m--> 269\u001b[0;31m             \u001b[0;34m[\u001b[0m\u001b[0mtransaction\u001b[0m\u001b[0;34m]\u001b[0m\u001b[0;34m,\u001b[0m\u001b[0;34m\u001b[0m\u001b[0;34m\u001b[0m\u001b[0m\n\u001b[0m\u001b[1;32m    270\u001b[0m         )\n\u001b[1;32m    271\u001b[0m \u001b[0;34m\u001b[0m\u001b[0m\n",
      "\u001b[0;32m~/miniconda/envs/luce_vm/lib/python3.7/site-packages/web3/manager.py\u001b[0m in \u001b[0;36mrequest_blocking\u001b[0;34m(self, method, params)\u001b[0m\n\u001b[1;32m    110\u001b[0m \u001b[0;34m\u001b[0m\u001b[0m\n\u001b[1;32m    111\u001b[0m         \u001b[0;32mif\u001b[0m \u001b[0;34m\"error\"\u001b[0m \u001b[0;32min\u001b[0m \u001b[0mresponse\u001b[0m\u001b[0;34m:\u001b[0m\u001b[0;34m\u001b[0m\u001b[0;34m\u001b[0m\u001b[0m\n\u001b[0;32m--> 112\u001b[0;31m             \u001b[0;32mraise\u001b[0m \u001b[0mValueError\u001b[0m\u001b[0;34m(\u001b[0m\u001b[0mresponse\u001b[0m\u001b[0;34m[\u001b[0m\u001b[0;34m\"error\"\u001b[0m\u001b[0;34m]\u001b[0m\u001b[0;34m)\u001b[0m\u001b[0;34m\u001b[0m\u001b[0;34m\u001b[0m\u001b[0m\n\u001b[0m\u001b[1;32m    113\u001b[0m \u001b[0;34m\u001b[0m\u001b[0m\n\u001b[1;32m    114\u001b[0m         \u001b[0;32mreturn\u001b[0m \u001b[0mresponse\u001b[0m\u001b[0;34m[\u001b[0m\u001b[0;34m'result'\u001b[0m\u001b[0;34m]\u001b[0m\u001b[0;34m\u001b[0m\u001b[0;34m\u001b[0m\u001b[0m\n",
      "\u001b[0;31mValueError\u001b[0m: {'message': 'VM Exception while processing transaction: revert', 'code': -32000, 'data': {'0x35c443d9a91affeefdc638fd16db80517679658afb715abc057ebc1b35fc70d5': {'error': 'revert', 'program_counter': 3312, 'return': '0x'}, 'stack': 'o: VM Exception while processing transaction: revert\\n    at Function.o.fromResults (/home/vagrant/.nvm/versions/node/v12.4.0/lib/node_modules/ganache-cli/build/ganache-core.node.cli.js:10:81931)\\n    at /home/vagrant/.nvm/versions/node/v12.4.0/lib/node_modules/ganache-cli/build/ganache-core.node.cli.js:47:115772\\n    at /home/vagrant/.nvm/versions/node/v12.4.0/lib/node_modules/ganache-cli/build/ganache-core.node.cli.js:47:96183\\n    at p (/home/vagrant/.nvm/versions/node/v12.4.0/lib/node_modules/ganache-cli/build/ganache-core.node.cli.js:47:95840)\\n    at /home/vagrant/.nvm/versions/node/v12.4.0/lib/node_modules/ganache-cli/build/ganache-core.node.cli.js:47:95893\\n    at t.default (/home/vagrant/.nvm/versions/node/v12.4.0/lib/node_modules/ganache-cli/build/ganache-core.node.cli.js:52:167784)\\n    at /home/vagrant/.nvm/versions/node/v12.4.0/lib/node_modules/ganache-cli/build/ganache-core.node.cli.js:47:96807\\n    at _.n.emit (/home/vagrant/.nvm/versions/node/v12.4.0/lib/node_modules/ganache-cli/build/ganache-core.node.cli.js:61:1210127)\\n    at /home/vagrant/.nvm/versions/node/v12.4.0/lib/node_modules/ganache-cli/build/ganache-core.node.cli.js:61:1848925\\n    at /home/vagrant/.nvm/versions/node/v12.4.0/lib/node_modules/ganache-cli/build/ganache-core.node.cli.js:61:1848948\\n    at /home/vagrant/.nvm/versions/node/v12.4.0/lib/node_modules/ganache-cli/build/ganache-core.node.cli.js:61:499286\\n    at /home/vagrant/.nvm/versions/node/v12.4.0/lib/node_modules/ganache-cli/build/ganache-core.node.cli.js:2:26262\\n    at i (/home/vagrant/.nvm/versions/node/v12.4.0/lib/node_modules/ganache-cli/build/ganache-core.node.cli.js:2:41317)\\n    at /home/vagrant/.nvm/versions/node/v12.4.0/lib/node_modules/ganache-cli/build/ganache-core.node.cli.js:2:21785\\n    at processTicksAndRejections (internal/process/task_queues.js:82:9)', 'name': 'o'}}"
     ]
    }
   ],
   "source": [
    "luce1.functions.addDataRequester(1,2).transact()"
   ]
  },
  {
   "cell_type": "markdown",
   "metadata": {},
   "source": [
    "This method throws an error at the moment:  \n",
    "`'message': 'VM Exception while processing transaction: revert`"
   ]
  },
  {
   "cell_type": "markdown",
   "metadata": {},
   "source": [
    "**renewToken**\n",
    "```solidity\n",
    "renewToken(uint compliance) public returns(uint token)\n",
    "```"
   ]
  },
  {
   "cell_type": "code",
   "execution_count": 31,
   "metadata": {
    "collapsed": true
   },
   "outputs": [
    {
     "ename": "ValueError",
     "evalue": "{'message': 'VM Exception while processing transaction: revert need to agree on licence first', 'code': -32000, 'data': {'0x9b8d3507615ff3c250b052ac86f8f5b6c4888aef9b03ee8fb33b5b39e680c7a2': {'error': 'revert', 'program_counter': 2060, 'return': '0x08c379a00000000000000000000000000000000000000000000000000000000000000020000000000000000000000000000000000000000000000000000000000000001e6e65656420746f206167726565206f6e206c6963656e63652066697273740000', 'reason': 'need to agree on licence first'}, 'stack': 'o: VM Exception while processing transaction: revert need to agree on licence first\\n    at Function.o.fromResults (/home/vagrant/.nvm/versions/node/v12.4.0/lib/node_modules/ganache-cli/build/ganache-core.node.cli.js:10:81931)\\n    at /home/vagrant/.nvm/versions/node/v12.4.0/lib/node_modules/ganache-cli/build/ganache-core.node.cli.js:47:115772\\n    at /home/vagrant/.nvm/versions/node/v12.4.0/lib/node_modules/ganache-cli/build/ganache-core.node.cli.js:47:96183\\n    at p (/home/vagrant/.nvm/versions/node/v12.4.0/lib/node_modules/ganache-cli/build/ganache-core.node.cli.js:47:95840)\\n    at /home/vagrant/.nvm/versions/node/v12.4.0/lib/node_modules/ganache-cli/build/ganache-core.node.cli.js:47:95893\\n    at t.default (/home/vagrant/.nvm/versions/node/v12.4.0/lib/node_modules/ganache-cli/build/ganache-core.node.cli.js:52:167784)\\n    at /home/vagrant/.nvm/versions/node/v12.4.0/lib/node_modules/ganache-cli/build/ganache-core.node.cli.js:47:96807\\n    at _.n.emit (/home/vagrant/.nvm/versions/node/v12.4.0/lib/node_modules/ganache-cli/build/ganache-core.node.cli.js:61:1210127)\\n    at /home/vagrant/.nvm/versions/node/v12.4.0/lib/node_modules/ganache-cli/build/ganache-core.node.cli.js:61:1848925\\n    at /home/vagrant/.nvm/versions/node/v12.4.0/lib/node_modules/ganache-cli/build/ganache-core.node.cli.js:61:1848948\\n    at /home/vagrant/.nvm/versions/node/v12.4.0/lib/node_modules/ganache-cli/build/ganache-core.node.cli.js:61:499286\\n    at /home/vagrant/.nvm/versions/node/v12.4.0/lib/node_modules/ganache-cli/build/ganache-core.node.cli.js:2:26262\\n    at i (/home/vagrant/.nvm/versions/node/v12.4.0/lib/node_modules/ganache-cli/build/ganache-core.node.cli.js:2:41317)\\n    at /home/vagrant/.nvm/versions/node/v12.4.0/lib/node_modules/ganache-cli/build/ganache-core.node.cli.js:2:21785\\n    at processTicksAndRejections (internal/process/task_queues.js:82:9)', 'name': 'o'}}",
     "output_type": "error",
     "traceback": [
      "\u001b[0;31m---------------------------------------------------------------------------\u001b[0m",
      "\u001b[0;31mValueError\u001b[0m                                Traceback (most recent call last)",
      "\u001b[0;32m<ipython-input-31-3470f8009add>\u001b[0m in \u001b[0;36m<module>\u001b[0;34m\u001b[0m\n\u001b[0;32m----> 1\u001b[0;31m \u001b[0mluce1\u001b[0m\u001b[0;34m.\u001b[0m\u001b[0mfunctions\u001b[0m\u001b[0;34m.\u001b[0m\u001b[0mrenewToken\u001b[0m\u001b[0;34m(\u001b[0m\u001b[0;36m1\u001b[0m\u001b[0;34m)\u001b[0m\u001b[0;34m.\u001b[0m\u001b[0mtransact\u001b[0m\u001b[0;34m(\u001b[0m\u001b[0;34m)\u001b[0m\u001b[0;34m\u001b[0m\u001b[0;34m\u001b[0m\u001b[0m\n\u001b[0m\u001b[1;32m      2\u001b[0m \u001b[0;31m# Error: Need to agree on licence first\u001b[0m\u001b[0;34m\u001b[0m\u001b[0;34m\u001b[0m\u001b[0;34m\u001b[0m\u001b[0m\n",
      "\u001b[0;32m~/miniconda/envs/luce_vm/lib/python3.7/site-packages/web3/contract.py\u001b[0m in \u001b[0;36mtransact\u001b[0;34m(self, transaction)\u001b[0m\n\u001b[1;32m   1149\u001b[0m             \u001b[0mself\u001b[0m\u001b[0;34m.\u001b[0m\u001b[0mabi\u001b[0m\u001b[0;34m,\u001b[0m\u001b[0;34m\u001b[0m\u001b[0;34m\u001b[0m\u001b[0m\n\u001b[1;32m   1150\u001b[0m             \u001b[0;34m*\u001b[0m\u001b[0mself\u001b[0m\u001b[0;34m.\u001b[0m\u001b[0margs\u001b[0m\u001b[0;34m,\u001b[0m\u001b[0;34m\u001b[0m\u001b[0;34m\u001b[0m\u001b[0m\n\u001b[0;32m-> 1151\u001b[0;31m             \u001b[0;34m**\u001b[0m\u001b[0mself\u001b[0m\u001b[0;34m.\u001b[0m\u001b[0mkwargs\u001b[0m\u001b[0;34m\u001b[0m\u001b[0;34m\u001b[0m\u001b[0m\n\u001b[0m\u001b[1;32m   1152\u001b[0m         )\n\u001b[1;32m   1153\u001b[0m \u001b[0;34m\u001b[0m\u001b[0m\n",
      "\u001b[0;32m~/miniconda/envs/luce_vm/lib/python3.7/site-packages/web3/contract.py\u001b[0m in \u001b[0;36mtransact_with_contract_function\u001b[0;34m(address, web3, function_name, transaction, contract_abi, fn_abi, *args, **kwargs)\u001b[0m\n\u001b[1;32m   1452\u001b[0m     )\n\u001b[1;32m   1453\u001b[0m \u001b[0;34m\u001b[0m\u001b[0m\n\u001b[0;32m-> 1454\u001b[0;31m     \u001b[0mtxn_hash\u001b[0m \u001b[0;34m=\u001b[0m \u001b[0mweb3\u001b[0m\u001b[0;34m.\u001b[0m\u001b[0meth\u001b[0m\u001b[0;34m.\u001b[0m\u001b[0msendTransaction\u001b[0m\u001b[0;34m(\u001b[0m\u001b[0mtransact_transaction\u001b[0m\u001b[0;34m)\u001b[0m\u001b[0;34m\u001b[0m\u001b[0;34m\u001b[0m\u001b[0m\n\u001b[0m\u001b[1;32m   1455\u001b[0m     \u001b[0;32mreturn\u001b[0m \u001b[0mtxn_hash\u001b[0m\u001b[0;34m\u001b[0m\u001b[0;34m\u001b[0m\u001b[0m\n\u001b[1;32m   1456\u001b[0m \u001b[0;34m\u001b[0m\u001b[0m\n",
      "\u001b[0;32m~/miniconda/envs/luce_vm/lib/python3.7/site-packages/web3/eth.py\u001b[0m in \u001b[0;36msendTransaction\u001b[0;34m(self, transaction)\u001b[0m\n\u001b[1;32m    267\u001b[0m         return self.web3.manager.request_blocking(\n\u001b[1;32m    268\u001b[0m             \u001b[0;34m\"eth_sendTransaction\"\u001b[0m\u001b[0;34m,\u001b[0m\u001b[0;34m\u001b[0m\u001b[0;34m\u001b[0m\u001b[0m\n\u001b[0;32m--> 269\u001b[0;31m             \u001b[0;34m[\u001b[0m\u001b[0mtransaction\u001b[0m\u001b[0;34m]\u001b[0m\u001b[0;34m,\u001b[0m\u001b[0;34m\u001b[0m\u001b[0;34m\u001b[0m\u001b[0m\n\u001b[0m\u001b[1;32m    270\u001b[0m         )\n\u001b[1;32m    271\u001b[0m \u001b[0;34m\u001b[0m\u001b[0m\n",
      "\u001b[0;32m~/miniconda/envs/luce_vm/lib/python3.7/site-packages/web3/manager.py\u001b[0m in \u001b[0;36mrequest_blocking\u001b[0;34m(self, method, params)\u001b[0m\n\u001b[1;32m    110\u001b[0m \u001b[0;34m\u001b[0m\u001b[0m\n\u001b[1;32m    111\u001b[0m         \u001b[0;32mif\u001b[0m \u001b[0;34m\"error\"\u001b[0m \u001b[0;32min\u001b[0m \u001b[0mresponse\u001b[0m\u001b[0;34m:\u001b[0m\u001b[0;34m\u001b[0m\u001b[0;34m\u001b[0m\u001b[0m\n\u001b[0;32m--> 112\u001b[0;31m             \u001b[0;32mraise\u001b[0m \u001b[0mValueError\u001b[0m\u001b[0;34m(\u001b[0m\u001b[0mresponse\u001b[0m\u001b[0;34m[\u001b[0m\u001b[0;34m\"error\"\u001b[0m\u001b[0;34m]\u001b[0m\u001b[0;34m)\u001b[0m\u001b[0;34m\u001b[0m\u001b[0;34m\u001b[0m\u001b[0m\n\u001b[0m\u001b[1;32m    113\u001b[0m \u001b[0;34m\u001b[0m\u001b[0m\n\u001b[1;32m    114\u001b[0m         \u001b[0;32mreturn\u001b[0m \u001b[0mresponse\u001b[0m\u001b[0;34m[\u001b[0m\u001b[0;34m'result'\u001b[0m\u001b[0;34m]\u001b[0m\u001b[0;34m\u001b[0m\u001b[0;34m\u001b[0m\u001b[0m\n",
      "\u001b[0;31mValueError\u001b[0m: {'message': 'VM Exception while processing transaction: revert need to agree on licence first', 'code': -32000, 'data': {'0x9b8d3507615ff3c250b052ac86f8f5b6c4888aef9b03ee8fb33b5b39e680c7a2': {'error': 'revert', 'program_counter': 2060, 'return': '0x08c379a00000000000000000000000000000000000000000000000000000000000000020000000000000000000000000000000000000000000000000000000000000001e6e65656420746f206167726565206f6e206c6963656e63652066697273740000', 'reason': 'need to agree on licence first'}, 'stack': 'o: VM Exception while processing transaction: revert need to agree on licence first\\n    at Function.o.fromResults (/home/vagrant/.nvm/versions/node/v12.4.0/lib/node_modules/ganache-cli/build/ganache-core.node.cli.js:10:81931)\\n    at /home/vagrant/.nvm/versions/node/v12.4.0/lib/node_modules/ganache-cli/build/ganache-core.node.cli.js:47:115772\\n    at /home/vagrant/.nvm/versions/node/v12.4.0/lib/node_modules/ganache-cli/build/ganache-core.node.cli.js:47:96183\\n    at p (/home/vagrant/.nvm/versions/node/v12.4.0/lib/node_modules/ganache-cli/build/ganache-core.node.cli.js:47:95840)\\n    at /home/vagrant/.nvm/versions/node/v12.4.0/lib/node_modules/ganache-cli/build/ganache-core.node.cli.js:47:95893\\n    at t.default (/home/vagrant/.nvm/versions/node/v12.4.0/lib/node_modules/ganache-cli/build/ganache-core.node.cli.js:52:167784)\\n    at /home/vagrant/.nvm/versions/node/v12.4.0/lib/node_modules/ganache-cli/build/ganache-core.node.cli.js:47:96807\\n    at _.n.emit (/home/vagrant/.nvm/versions/node/v12.4.0/lib/node_modules/ganache-cli/build/ganache-core.node.cli.js:61:1210127)\\n    at /home/vagrant/.nvm/versions/node/v12.4.0/lib/node_modules/ganache-cli/build/ganache-core.node.cli.js:61:1848925\\n    at /home/vagrant/.nvm/versions/node/v12.4.0/lib/node_modules/ganache-cli/build/ganache-core.node.cli.js:61:1848948\\n    at /home/vagrant/.nvm/versions/node/v12.4.0/lib/node_modules/ganache-cli/build/ganache-core.node.cli.js:61:499286\\n    at /home/vagrant/.nvm/versions/node/v12.4.0/lib/node_modules/ganache-cli/build/ganache-core.node.cli.js:2:26262\\n    at i (/home/vagrant/.nvm/versions/node/v12.4.0/lib/node_modules/ganache-cli/build/ganache-core.node.cli.js:2:41317)\\n    at /home/vagrant/.nvm/versions/node/v12.4.0/lib/node_modules/ganache-cli/build/ganache-core.node.cli.js:2:21785\\n    at processTicksAndRejections (internal/process/task_queues.js:82:9)', 'name': 'o'}}"
     ]
    }
   ],
   "source": [
    "luce1.functions.renewToken(1).transact()\n",
    "# Error: Need to agree on licence first"
   ]
  },
  {
   "cell_type": "markdown",
   "metadata": {},
   "source": [
    "`'message': 'VM Exception while processing transaction: revert need to agree on licence first'`"
   ]
  }
 ],
 "metadata": {
  "kernel_info": {
   "name": "python3"
  },
  "kernelspec": {
   "display_name": "luce_vm",
   "language": "python",
   "name": "luce_vm"
  },
  "language_info": {
   "codemirror_mode": {
    "name": "ipython",
    "version": 3
   },
   "file_extension": ".py",
   "mimetype": "text/x-python",
   "name": "python",
   "nbconvert_exporter": "python",
   "pygments_lexer": "ipython3",
   "version": "3.7.3"
  },
  "nteract": {
   "version": "0.14.3"
  }
 },
 "nbformat": 4,
 "nbformat_minor": 2
}
