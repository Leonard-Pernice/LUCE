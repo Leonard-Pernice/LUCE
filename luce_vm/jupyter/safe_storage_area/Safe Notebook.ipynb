{
 "cells": [
  {
   "cell_type": "markdown",
   "metadata": {},
   "source": [
    "### Safe Local Storage\n",
    "\n",
    "When running\n",
    "```bash\n",
    "git fetch origin\n",
    "git reset --hard origin/master\n",
    "```\n",
    "git drops all local changes and commits and fetches the latest version of all files from the server. That way all local work that has been performed is lost. The `safe_local_storage` folder provides a safe location to interact with LuceVM that will persist also if `git reset` is performed."
   ]
  }
 ],
 "metadata": {
  "kernel_info": {
   "name": "python3"
  },
  "kernelspec": {
   "display_name": "luce_vm",
   "language": "python",
   "name": "luce_vm"
  },
  "language_info": {
   "codemirror_mode": {
    "name": "ipython",
    "version": 3
   },
   "file_extension": ".py",
   "mimetype": "text/x-python",
   "name": "python",
   "nbconvert_exporter": "python",
   "pygments_lexer": "ipython3",
   "version": "3.7.3"
  },
  "nteract": {
   "version": "0.14.3"
  }
 },
 "nbformat": 4,
 "nbformat_minor": 2
}
