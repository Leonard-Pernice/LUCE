{
 "cells": [
  {
   "cell_type": "markdown",
   "metadata": {},
   "source": [
    "### Try-Django 2.2\n",
    "In this notebook I will document the steps I take learning Django following the [Try Django](https://github.com/codingforentrepreneurs/Try-Django-2.2) tutorial created by Coding for Entrepreneurs. The full tutorial video can be found [here]().\n",
    "\n",
    "Documenting the steps via this notebook creates some overhead compared to simply running all commands in the shell but I believe it is worth the effort since it allows me to easily reference what I did in the future. This can be my personal Django manual and might be useful for others, too."
   ]
  },
  {
   "cell_type": "markdown",
   "metadata": {},
   "source": [
    "### My Environment"
   ]
  },
  {
   "cell_type": "markdown",
   "metadata": {},
   "source": [
    "To follow the tutorial I use this setup:\n",
    "* An Ubuntu 16.04 virtual machine (managed via vagrant)\n",
    "* The django project folder lives in /vagrant/try_django\n",
    "    * that way my host machine (macOS 10.12) can directly edit the project files\n",
    "* conda instead of pipenv for virtual environment management\n",
    "* tmux for running the django server in a background process\n",
    "\n",
    "To be able to document everything nicely here, I also installed jupyter server and a separate jupyter kernel in the virtual machine that allows me to interface with the conda python environment of the virtual machine from within a jupyter notebook accessed on my host system.\n",
    "\n",
    "The vagrant system configuration of this 'django_vm' is available on my github."
   ]
  },
  {
   "cell_type": "markdown",
   "metadata": {},
   "source": [
    "### Server setup\n",
    "```bash\n",
    "git clone... # insert link to gihub repo (subset of my luce repo)\n",
    "cd ./test_vm # update to ./django_vm\n",
    "# cd ./django_vm \n",
    "vagrant up\n",
    "vagrant ssh\n",
    "bash 1_prepare_system.sh\n",
    "source ./bashrc\n",
    "```\n",
    "\n",
    "Run jupyter server:\n",
    "\n",
    "```bash\n",
    "conda activate ...\n",
    "tmux new -s jupyter\n",
    "jupyter notebook --no-browser --ip 0.0.0.0 --NotebookApp.token=\"django\" --notebook-dir=/vagrant/jupyter/ # update to use bash script instead\n",
    "Ctrl-b d # detach from tmux\n",
    "```\n",
    "\n",
    "Interface with server from host system via 127.0.0.1:8888 with password 'django'."
   ]
  },
  {
   "cell_type": "markdown",
   "metadata": {},
   "source": [
    "---"
   ]
  },
  {
   "cell_type": "markdown",
   "metadata": {},
   "source": [
    "## NOTE: I simply write the commands here in markdown now. Saturday morning (2019-06-29 07.44) and patchy internet at home. Without stable internet setting up jupyter and injected kernel on the VM is difficult now. So I simply use markdown for the time being to document the steps."
   ]
  },
  {
   "cell_type": "markdown",
   "metadata": {},
   "source": [
    "Bash markdown cell below:"
   ]
  },
  {
   "cell_type": "markdown",
   "metadata": {},
   "source": [
    "```bash\n",
    "\n",
    "```"
   ]
  },
  {
   "cell_type": "markdown",
   "metadata": {},
   "source": [
    "### Setup Environment\n",
    "* Create directory\n",
    "* Create virtual environment\n",
    "* Install python and django"
   ]
  },
  {
   "cell_type": "markdown",
   "metadata": {},
   "source": [
    "Create directory:\n",
    "```bash\n",
    "cd /vagrant\n",
    "mkdir try_django\n",
    "cd try_django\n",
    "```"
   ]
  },
  {
   "cell_type": "markdown",
   "metadata": {},
   "source": [
    "Create virtual environment and install python and django in it:\n",
    "```bash\n",
    "conda create try_django python\n",
    "conda activate try_django\n",
    "conda install django=2.2\n",
    "pip install sqlparse # needed for django\n",
    "```\n",
    "Note: Once a conda environment is created and activated both conda install and pip install will install packages into this virtual environment. I use conda since it is more general and allows to also manage non-python package dependencies. This is common in the Data Science field so conda gives me the flexibility to use one package manager for all my projects."
   ]
  },
  {
   "cell_type": "markdown",
   "metadata": {},
   "source": [
    "Start new django project:\n",
    "```bash\n",
    "django-admin startproject try_django /vagrant/try_django/\n",
    "# django-admin startproject try_django .  # if already in the folder\n",
    "```"
   ]
  },
  {
   "cell_type": "code",
   "execution_count": null,
   "metadata": {},
   "outputs": [],
   "source": []
  }
 ],
 "metadata": {
  "kernelspec": {
   "display_name": "Python 3",
   "language": "python",
   "name": "python3"
  },
  "language_info": {
   "codemirror_mode": {
    "name": "ipython",
    "version": 3
   },
   "file_extension": ".py",
   "mimetype": "text/x-python",
   "name": "python",
   "nbconvert_exporter": "python",
   "pygments_lexer": "ipython3",
   "version": "3.6.7"
  }
 },
 "nbformat": 4,
 "nbformat_minor": 2
}
