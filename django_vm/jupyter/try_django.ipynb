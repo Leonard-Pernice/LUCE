{
 "cells": [
  {
   "cell_type": "markdown",
   "metadata": {},
   "source": [
    "### Connect Jupyter Notebook to Python Kernel"
   ]
  },
  {
   "cell_type": "markdown",
   "metadata": {},
   "source": [
    "Now, inside the Jupyter Noebook environment we open the `luce_python.ipynb` file to continue with the instructions. We change the python kernel to match the new environment we just created via `Kernel -> Change Kernel -> luce_python _kernel`. We then execute the python cell below to verify that the notebook is indeed using the correct python environment. The path displayed should match the one of our project folder. For example: `/Users/arno/Desktop/luce_python/.luce_python/bin/python`"
   ]
  },
  {
   "cell_type": "code",
   "execution_count": 6,
   "metadata": {},
   "outputs": [
    {
     "data": {
      "text/plain": [
       "'/home/vagrant/miniconda/envs/try_django/bin/python'"
      ]
     },
     "execution_count": 6,
     "metadata": {},
     "output_type": "execute_result"
    }
   ],
   "source": [
    "# Check that correct python kernel is running in Notebook\n",
    "import sys\n",
    "sys.executable\n",
    "#sys.prefix"
   ]
  },
  {
   "cell_type": "code",
   "execution_count": 2,
   "metadata": {},
   "outputs": [
    {
     "name": "stdout",
     "output_type": "stream",
     "text": [
      "/home/vagrant/miniconda/envs/django_vm/bin/python\r\n"
     ]
    }
   ],
   "source": [
    "!which python"
   ]
  },
  {
   "cell_type": "markdown",
   "metadata": {},
   "source": [
    "Python version used by shell is the same as python kernel used by Jupyter notebook. Very good! :)"
   ]
  },
  {
   "cell_type": "code",
   "execution_count": 7,
   "metadata": {},
   "outputs": [
    {
     "name": "stdout",
     "output_type": "stream",
     "text": [
      "Collecting django==2.2\n",
      "\u001b[?25l  Downloading https://files.pythonhosted.org/packages/54/85/0bef63668fb170888c1a2970ec897d4528d6072f32dee27653381a332642/Django-2.2-py3-none-any.whl (7.4MB)\n",
      "\u001b[K     |████████████████████████████████| 7.5MB 5.0MB/s eta 0:00:01\n",
      "\u001b[?25hCollecting pytz (from django==2.2)\n",
      "\u001b[?25l  Downloading https://files.pythonhosted.org/packages/3d/73/fe30c2daaaa0713420d0382b16fbb761409f532c56bdcc514bf7b6262bb6/pytz-2019.1-py2.py3-none-any.whl (510kB)\n",
      "\u001b[K     |████████████████████████████████| 512kB 12.8MB/s eta 0:00:01\n",
      "\u001b[?25hRequirement already satisfied: sqlparse in /home/vagrant/miniconda/envs/try_django/lib/python3.7/site-packages (from django==2.2) (0.3.0)\n",
      "Installing collected packages: pytz, django\n",
      "Successfully installed django-2.2 pytz-2019.1\n"
     ]
    }
   ],
   "source": [
    "!{sys.executable} -m pip install django==2.2"
   ]
  },
  {
   "cell_type": "code",
   "execution_count": 4,
   "metadata": {},
   "outputs": [
    {
     "name": "stdout",
     "output_type": "stream",
     "text": [
      "Collecting sqlparse\n",
      "  Downloading https://files.pythonhosted.org/packages/ef/53/900f7d2a54557c6a37886585a91336520e5539e3ae2423ff1102daf4f3a7/sqlparse-0.3.0-py2.py3-none-any.whl\n",
      "Installing collected packages: sqlparse\n",
      "Successfully installed sqlparse-0.3.0\n"
     ]
    }
   ],
   "source": [
    "!{sys.executable} -m pip install sqlparse"
   ]
  },
  {
   "cell_type": "markdown",
   "metadata": {},
   "source": [
    "### Try-Django 2.2\n",
    "In this notebook I will document the steps I take learning Django following the [Try Django](https://github.com/codingforentrepreneurs/Try-Django-2.2) tutorial created by Coding for Entrepreneurs. The full tutorial video can be found [here](https://www.youtube.com/watch?v=-oQvMHpKkms).\n",
    "\n",
    "Documenting the steps via this notebook creates some overhead compared to simply running all commands in the shell but I believe it is worth the effort since it allows me to easily reference what I did in the future. This can be my personal Django manual and might be useful for others, too."
   ]
  },
  {
   "cell_type": "markdown",
   "metadata": {},
   "source": [
    "### My Environment"
   ]
  },
  {
   "cell_type": "markdown",
   "metadata": {},
   "source": [
    "To follow the tutorial I use this setup:\n",
    "* An Ubuntu 16.04 virtual machine (managed via vagrant)\n",
    "* A jupyter notebook server running on the VM to work on this tutorial notebook from the host machine\n",
    "* The django project folder lives in /vagrant/try_django\n",
    "    * that way my host machine (macOS 10.12) can directly access and edit the project files\n",
    "* (conda for virtual environment management)\n",
    "* (tmux for running the django server in a background process)\n",
    "\n",
    "To be able to document everything nicely here, I installed jupyter server in the virtual machine that allows to interface with the python environment of the virtual machine from within a jupyter notebook accessed on my host system. The system configuration of this 'django_vm' will be available [here]().\n",
    "\n",
    "I considered to include the set-up of the Django environment directly in the VM. But for educational purposes I decided to perform ALL the steps, including environment setup here. This requires to install and transition to another jupyter kernel while working through this notebook. Doing so is unconventional but makes for an interesting learning experience. It allowed me to gain a good understanding of the low-level workings of python and jupyter kernels allong the way. \n",
    "\n",
    "Let's dive in..\n",
    "\n",
    "##We will create a new virtual environment at the beginning of the setup process and install a separate jupyter kernel in that environment which will allows us to interact with this new environment from within the notebook."
   ]
  },
  {
   "cell_type": "markdown",
   "metadata": {},
   "source": [
    "### Development Environment Setup\n",
    "* First install [Vagrant](https://www.vagrantup.com/) \n",
    "* Then clone the base folder from github and set up the VM \n",
    "```bash\n",
    "git clone... # insert link to gihub repo (subset of my luce repo)\n",
    "cd ./django_vm \n",
    "vagrant up # start the VM\n",
    "vagrant ssh # ssh into the VM\n",
    "bash prepare_system.sh\n",
    "source ./bashrc # refresh shell\n",
    "```\n",
    "\n",
    "* Start jupyter server in background\n",
    "```bash\n",
    "bash tmux_jupyter.sh\n",
    "```\n",
    "\n",
    "Interface with server from host system via 127.0.0.1:8888 with password 'django'."
   ]
  },
  {
   "cell_type": "markdown",
   "metadata": {},
   "source": [
    "---"
   ]
  },
  {
   "cell_type": "markdown",
   "metadata": {},
   "source": [
    "## NOTE: I simply write the commands here in markdown now. Saturday morning (2019-06-29 07.44) and patchy internet at home. Without stable internet setting up jupyter and injected kernel on the VM is difficult now. So I simply use markdown for the time being to document the steps."
   ]
  },
  {
   "cell_type": "markdown",
   "metadata": {},
   "source": [
    "Bash markdown cell below:"
   ]
  },
  {
   "cell_type": "markdown",
   "metadata": {},
   "source": [
    "```bash\n",
    "\n",
    "```"
   ]
  },
  {
   "cell_type": "markdown",
   "metadata": {},
   "source": [
    "### Setup Environment\n",
    "* Create directory\n",
    "* Create virtual environment\n",
    "* Install python and django"
   ]
  },
  {
   "cell_type": "markdown",
   "metadata": {},
   "source": [
    "Create directory:\n",
    "```bash\n",
    "cd /vagrant\n",
    "mkdir try_django\n",
    "cd try_django\n",
    "```"
   ]
  },
  {
   "cell_type": "markdown",
   "metadata": {},
   "source": [
    "Create virtual environment and install python and django in it:\n",
    "```bash\n",
    "conda create try_django python\n",
    "conda activate try_django\n",
    "conda install django=2.2\n",
    "pip install sqlparse # needed for django\n",
    "```\n",
    "Note: Once a conda environment is created and activated both conda install and pip install will install packages into this virtual environment. I use conda since it is more general and allows to also manage non-python package dependencies. This is common in the Data Science field so conda gives me the flexibility to use one package manager for all my projects."
   ]
  },
  {
   "cell_type": "markdown",
   "metadata": {},
   "source": [
    "Start new django project:\n",
    "```bash\n",
    "django-admin startproject try_django /vagrant/try_django/\n",
    "# django-admin startproject try_django .  # if already in the folder\n",
    "```"
   ]
  },
  {
   "cell_type": "code",
   "execution_count": null,
   "metadata": {},
   "outputs": [],
   "source": []
  }
 ],
 "metadata": {
  "kernelspec": {
   "display_name": "try_django",
   "language": "python",
   "name": "try_django"
  },
  "language_info": {
   "codemirror_mode": {
    "name": "ipython",
    "version": 3
   },
   "file_extension": ".py",
   "mimetype": "text/x-python",
   "name": "python",
   "nbconvert_exporter": "python",
   "pygments_lexer": "ipython3",
   "version": "3.7.3"
  }
 },
 "nbformat": 4,
 "nbformat_minor": 2
}
