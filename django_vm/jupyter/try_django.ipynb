{
 "cells": [
  {
   "cell_type": "markdown",
   "metadata": {},
   "source": [
    "### Try-Django 2.2\n",
    "In this notebook I will document the steps I take learning Django following the [Try Django](https://github.com/codingforentrepreneurs/Try-Django-2.2) tutorial created by Coding for Entrepreneurs. The full tutorial video can be found [here](https://www.youtube.com/watch?v=-oQvMHpKkms).\n",
    "\n",
    "Documenting the steps via this notebook creates some overhead compared to simply running all commands in the shell but I believe it is worth the effort since it allows me to easily reference what I did in the future. This can be my personal Django manual and might be useful for others, too."
   ]
  },
  {
   "cell_type": "markdown",
   "metadata": {},
   "source": [
    "### My Environment"
   ]
  },
  {
   "cell_type": "markdown",
   "metadata": {},
   "source": [
    "To follow the tutorial I use this setup:\n",
    "* An Ubuntu 16.04 virtual machine (managed via vagrant)\n",
    "* A jupyter notebook server running on the VM to work on this tutorial notebook from the host machine\n",
    "* The django project folder lives in /vagrant/try_django\n",
    "    * that way my host machine (macOS 10.12) can directly access and edit the project files\n",
    "* (conda for virtual environment management)\n",
    "* (tmux for running the django server in a background process)\n",
    "\n",
    "To be able to document everything nicely here, I installed jupyter server in the virtual machine that allows to interface with the python environment of the virtual machine from within a jupyter notebook accessed on my host system. The system configuration of this 'django_vm' will be available [here]().\n",
    "\n",
    "I considered to include the set-up of the Django environment directly in the VM. But for educational purposes I decided to document ALL the steps, including environment setup here. This requires to install and transition to another jupyter kernel while working through this notebook. Doing so is unconventional but makes for a valuable learning experience.\n",
    "\n",
    "Let's dive in.."
   ]
  },
  {
   "cell_type": "markdown",
   "metadata": {},
   "source": [
    "### Development Environment Setup\n",
    "* First install [Vagrant](https://www.vagrantup.com/) and [VirtualBox](https://www.virtualbox.org/)\n",
    "* Then clone the base folder from github and set up the VM \n",
    "```bash\n",
    "git clone... # insert link to gihub repo (subset of my luce repo)\n",
    "cd ./django_vm \n",
    "vagrant up # start the VM\n",
    "vagrant ssh # ssh into the VM\n",
    "bash prepare_system.sh\n",
    "source ./bashrc # refresh shell\n",
    "```\n",
    "\n",
    "* Start jupyter server in background\n",
    "```bash\n",
    "bash tmux_jupyter.sh\n",
    "```\n",
    "\n",
    "Interface with server from host system via `http://127.0.0.1:8888` with password `django`."
   ]
  },
  {
   "cell_type": "markdown",
   "metadata": {},
   "source": [
    "### Setup Django Environment\n",
    "* Create directory\n",
    "* Create virtual environment\n",
    "* Install python and django"
   ]
  },
  {
   "cell_type": "markdown",
   "metadata": {},
   "source": [
    "Create project directory:\n",
    "```bash\n",
    "cd /vagrant\n",
    "mkdir try_django\n",
    "cd try_django\n",
    "```"
   ]
  },
  {
   "cell_type": "markdown",
   "metadata": {},
   "source": [
    "Create virtual environment and install python and django in it:\n",
    "```bash\n",
    "conda create -y --name try_django python\n",
    "conda activate try_django\n",
    "pip install django==2.2\n",
    "```"
   ]
  },
  {
   "cell_type": "markdown",
   "metadata": {},
   "source": [
    "Note: Once a conda environment is activated both `conda install` and `pip install` will install packages into this virtual environment. I use conda since it allows to also manage non-python package dependencies."
   ]
  },
  {
   "cell_type": "markdown",
   "metadata": {},
   "source": [
    "### Connect Jupyter to Virtual Environment\n",
    "We just created a new virtual environment, `try_django`, for our Django development project. We also installed the Django library inside this environment. The python kernel running this jupyter notebook however is not yet connected to our project environment.  \n",
    "\n",
    "Let's connect them:"
   ]
  },
  {
   "cell_type": "markdown",
   "metadata": {},
   "source": [
    "Install a new jupyter kernel inside `try_django`:\n",
    "```bash\n",
    "pip install ipykernel\n",
    "python -m ipykernel install --user --name=try_django\n",
    "```"
   ]
  },
  {
   "cell_type": "markdown",
   "metadata": {},
   "source": [
    "Now, refresh this browser page (CMD+R) and then select `Kernel -> Change Kernel -> try_django` from the top menu. Now the python kernel powering this notebook operates from inside our newly created environment. Let's verify this:"
   ]
  },
  {
   "cell_type": "code",
   "execution_count": 1,
   "metadata": {},
   "outputs": [
    {
     "name": "stdout",
     "output_type": "stream",
     "text": [
      "/home/vagrant/miniconda/envs/try_django/bin/python\n"
     ]
    }
   ],
   "source": [
    "# Check that correct python kernel is running in Notebook\n",
    "import sys\n",
    "print(sys.executable)"
   ]
  },
  {
   "cell_type": "markdown",
   "metadata": {},
   "source": [
    "The path should be:   \n",
    "\"/home/vagrant/miniconda/envs/**try_django**/bin/python\" "
   ]
  },
  {
   "cell_type": "markdown",
   "metadata": {},
   "source": [
    "### Install & Update Jupyter kernel"
   ]
  },
  {
   "cell_type": "markdown",
   "metadata": {},
   "source": [
    "Start new django project:\n",
    "```bash\n",
    "django-admin startproject try_django /vagrant/try_django/\n",
    "```"
   ]
  }
 ],
 "metadata": {
  "kernelspec": {
   "display_name": "try_django",
   "language": "python",
   "name": "try_django"
  },
  "language_info": {
   "codemirror_mode": {
    "name": "ipython",
    "version": 3
   },
   "file_extension": ".py",
   "mimetype": "text/x-python",
   "name": "python",
   "nbconvert_exporter": "python",
   "pygments_lexer": "ipython3",
   "version": "3.7.3"
  }
 },
 "nbformat": 4,
 "nbformat_minor": 2
}
